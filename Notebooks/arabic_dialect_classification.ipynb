{
  "cells": [
    {
      "cell_type": "markdown",
      "metadata": {
        "id": "0Lyeru70e_iX"
      },
      "source": [
        "# Imports"
      ]
    },
    {
      "cell_type": "code",
      "execution_count": 1,
      "metadata": {
        "colab": {
          "base_uri": "https://localhost:8080/"
        },
        "id": "36XOeEuPJ8UK",
        "outputId": "93b4f9ec-a42b-4765-acf0-03f2f1f63a1f"
      },
      "outputs": [
        {
          "name": "stdout",
          "output_type": "stream",
          "text": [
            "Collecting tensorflow_text\n",
            "  Downloading tensorflow_text-2.15.0-cp310-cp310-manylinux_2_17_x86_64.manylinux2014_x86_64.whl (5.2 MB)\n",
            "\u001b[2K     \u001b[90m━━━━━━━━━━━━━━━━━━━━━━━━━━━━━━━━━━━━━━━━\u001b[0m \u001b[32m5.2/5.2 MB\u001b[0m \u001b[31m17.4 MB/s\u001b[0m eta \u001b[36m0:00:00\u001b[0m\n",
            "\u001b[?25hRequirement already satisfied: tensorflow-hub>=0.13.0 in /usr/local/lib/python3.10/dist-packages (from tensorflow_text) (0.16.1)\n",
            "Requirement already satisfied: tensorflow<2.16,>=2.15.0 in /usr/local/lib/python3.10/dist-packages (from tensorflow_text) (2.15.0)\n",
            "Requirement already satisfied: absl-py>=1.0.0 in /usr/local/lib/python3.10/dist-packages (from tensorflow<2.16,>=2.15.0->tensorflow_text) (1.4.0)\n",
            "Requirement already satisfied: astunparse>=1.6.0 in /usr/local/lib/python3.10/dist-packages (from tensorflow<2.16,>=2.15.0->tensorflow_text) (1.6.3)\n",
            "Requirement already satisfied: flatbuffers>=23.5.26 in /usr/local/lib/python3.10/dist-packages (from tensorflow<2.16,>=2.15.0->tensorflow_text) (23.5.26)\n",
            "Requirement already satisfied: gast!=0.5.0,!=0.5.1,!=0.5.2,>=0.2.1 in /usr/local/lib/python3.10/dist-packages (from tensorflow<2.16,>=2.15.0->tensorflow_text) (0.5.4)\n",
            "Requirement already satisfied: google-pasta>=0.1.1 in /usr/local/lib/python3.10/dist-packages (from tensorflow<2.16,>=2.15.0->tensorflow_text) (0.2.0)\n",
            "Requirement already satisfied: h5py>=2.9.0 in /usr/local/lib/python3.10/dist-packages (from tensorflow<2.16,>=2.15.0->tensorflow_text) (3.9.0)\n",
            "Requirement already satisfied: libclang>=13.0.0 in /usr/local/lib/python3.10/dist-packages (from tensorflow<2.16,>=2.15.0->tensorflow_text) (16.0.6)\n",
            "Requirement already satisfied: ml-dtypes~=0.2.0 in /usr/local/lib/python3.10/dist-packages (from tensorflow<2.16,>=2.15.0->tensorflow_text) (0.2.0)\n",
            "Requirement already satisfied: numpy<2.0.0,>=1.23.5 in /usr/local/lib/python3.10/dist-packages (from tensorflow<2.16,>=2.15.0->tensorflow_text) (1.25.2)\n",
            "Requirement already satisfied: opt-einsum>=2.3.2 in /usr/local/lib/python3.10/dist-packages (from tensorflow<2.16,>=2.15.0->tensorflow_text) (3.3.0)\n",
            "Requirement already satisfied: packaging in /usr/local/lib/python3.10/dist-packages (from tensorflow<2.16,>=2.15.0->tensorflow_text) (23.2)\n",
            "Requirement already satisfied: protobuf!=4.21.0,!=4.21.1,!=4.21.2,!=4.21.3,!=4.21.4,!=4.21.5,<5.0.0dev,>=3.20.3 in /usr/local/lib/python3.10/dist-packages (from tensorflow<2.16,>=2.15.0->tensorflow_text) (3.20.3)\n",
            "Requirement already satisfied: setuptools in /usr/local/lib/python3.10/dist-packages (from tensorflow<2.16,>=2.15.0->tensorflow_text) (67.7.2)\n",
            "Requirement already satisfied: six>=1.12.0 in /usr/local/lib/python3.10/dist-packages (from tensorflow<2.16,>=2.15.0->tensorflow_text) (1.16.0)\n",
            "Requirement already satisfied: termcolor>=1.1.0 in /usr/local/lib/python3.10/dist-packages (from tensorflow<2.16,>=2.15.0->tensorflow_text) (2.4.0)\n",
            "Requirement already satisfied: typing-extensions>=3.6.6 in /usr/local/lib/python3.10/dist-packages (from tensorflow<2.16,>=2.15.0->tensorflow_text) (4.9.0)\n",
            "Requirement already satisfied: wrapt<1.15,>=1.11.0 in /usr/local/lib/python3.10/dist-packages (from tensorflow<2.16,>=2.15.0->tensorflow_text) (1.14.1)\n",
            "Requirement already satisfied: tensorflow-io-gcs-filesystem>=0.23.1 in /usr/local/lib/python3.10/dist-packages (from tensorflow<2.16,>=2.15.0->tensorflow_text) (0.36.0)\n",
            "Requirement already satisfied: grpcio<2.0,>=1.24.3 in /usr/local/lib/python3.10/dist-packages (from tensorflow<2.16,>=2.15.0->tensorflow_text) (1.60.1)\n",
            "Requirement already satisfied: tensorboard<2.16,>=2.15 in /usr/local/lib/python3.10/dist-packages (from tensorflow<2.16,>=2.15.0->tensorflow_text) (2.15.2)\n",
            "Requirement already satisfied: tensorflow-estimator<2.16,>=2.15.0 in /usr/local/lib/python3.10/dist-packages (from tensorflow<2.16,>=2.15.0->tensorflow_text) (2.15.0)\n",
            "Requirement already satisfied: keras<2.16,>=2.15.0 in /usr/local/lib/python3.10/dist-packages (from tensorflow<2.16,>=2.15.0->tensorflow_text) (2.15.0)\n",
            "Requirement already satisfied: tf-keras>=2.14.1 in /usr/local/lib/python3.10/dist-packages (from tensorflow-hub>=0.13.0->tensorflow_text) (2.15.0)\n",
            "Requirement already satisfied: wheel<1.0,>=0.23.0 in /usr/local/lib/python3.10/dist-packages (from astunparse>=1.6.0->tensorflow<2.16,>=2.15.0->tensorflow_text) (0.42.0)\n",
            "Requirement already satisfied: google-auth<3,>=1.6.3 in /usr/local/lib/python3.10/dist-packages (from tensorboard<2.16,>=2.15->tensorflow<2.16,>=2.15.0->tensorflow_text) (2.27.0)\n",
            "Requirement already satisfied: google-auth-oauthlib<2,>=0.5 in /usr/local/lib/python3.10/dist-packages (from tensorboard<2.16,>=2.15->tensorflow<2.16,>=2.15.0->tensorflow_text) (1.2.0)\n",
            "Requirement already satisfied: markdown>=2.6.8 in /usr/local/lib/python3.10/dist-packages (from tensorboard<2.16,>=2.15->tensorflow<2.16,>=2.15.0->tensorflow_text) (3.5.2)\n",
            "Requirement already satisfied: requests<3,>=2.21.0 in /usr/local/lib/python3.10/dist-packages (from tensorboard<2.16,>=2.15->tensorflow<2.16,>=2.15.0->tensorflow_text) (2.31.0)\n",
            "Requirement already satisfied: tensorboard-data-server<0.8.0,>=0.7.0 in /usr/local/lib/python3.10/dist-packages (from tensorboard<2.16,>=2.15->tensorflow<2.16,>=2.15.0->tensorflow_text) (0.7.2)\n",
            "Requirement already satisfied: werkzeug>=1.0.1 in /usr/local/lib/python3.10/dist-packages (from tensorboard<2.16,>=2.15->tensorflow<2.16,>=2.15.0->tensorflow_text) (3.0.1)\n",
            "Requirement already satisfied: cachetools<6.0,>=2.0.0 in /usr/local/lib/python3.10/dist-packages (from google-auth<3,>=1.6.3->tensorboard<2.16,>=2.15->tensorflow<2.16,>=2.15.0->tensorflow_text) (5.3.2)\n",
            "Requirement already satisfied: pyasn1-modules>=0.2.1 in /usr/local/lib/python3.10/dist-packages (from google-auth<3,>=1.6.3->tensorboard<2.16,>=2.15->tensorflow<2.16,>=2.15.0->tensorflow_text) (0.3.0)\n",
            "Requirement already satisfied: rsa<5,>=3.1.4 in /usr/local/lib/python3.10/dist-packages (from google-auth<3,>=1.6.3->tensorboard<2.16,>=2.15->tensorflow<2.16,>=2.15.0->tensorflow_text) (4.9)\n",
            "Requirement already satisfied: requests-oauthlib>=0.7.0 in /usr/local/lib/python3.10/dist-packages (from google-auth-oauthlib<2,>=0.5->tensorboard<2.16,>=2.15->tensorflow<2.16,>=2.15.0->tensorflow_text) (1.3.1)\n",
            "Requirement already satisfied: charset-normalizer<4,>=2 in /usr/local/lib/python3.10/dist-packages (from requests<3,>=2.21.0->tensorboard<2.16,>=2.15->tensorflow<2.16,>=2.15.0->tensorflow_text) (3.3.2)\n",
            "Requirement already satisfied: idna<4,>=2.5 in /usr/local/lib/python3.10/dist-packages (from requests<3,>=2.21.0->tensorboard<2.16,>=2.15->tensorflow<2.16,>=2.15.0->tensorflow_text) (3.6)\n",
            "Requirement already satisfied: urllib3<3,>=1.21.1 in /usr/local/lib/python3.10/dist-packages (from requests<3,>=2.21.0->tensorboard<2.16,>=2.15->tensorflow<2.16,>=2.15.0->tensorflow_text) (2.0.7)\n",
            "Requirement already satisfied: certifi>=2017.4.17 in /usr/local/lib/python3.10/dist-packages (from requests<3,>=2.21.0->tensorboard<2.16,>=2.15->tensorflow<2.16,>=2.15.0->tensorflow_text) (2024.2.2)\n",
            "Requirement already satisfied: MarkupSafe>=2.1.1 in /usr/local/lib/python3.10/dist-packages (from werkzeug>=1.0.1->tensorboard<2.16,>=2.15->tensorflow<2.16,>=2.15.0->tensorflow_text) (2.1.5)\n",
            "Requirement already satisfied: pyasn1<0.6.0,>=0.4.6 in /usr/local/lib/python3.10/dist-packages (from pyasn1-modules>=0.2.1->google-auth<3,>=1.6.3->tensorboard<2.16,>=2.15->tensorflow<2.16,>=2.15.0->tensorflow_text) (0.5.1)\n",
            "Requirement already satisfied: oauthlib>=3.0.0 in /usr/local/lib/python3.10/dist-packages (from requests-oauthlib>=0.7.0->google-auth-oauthlib<2,>=0.5->tensorboard<2.16,>=2.15->tensorflow<2.16,>=2.15.0->tensorflow_text) (3.2.2)\n",
            "Installing collected packages: tensorflow_text\n",
            "Successfully installed tensorflow_text-2.15.0\n"
          ]
        }
      ],
      "source": [
        "!pip install tensorflow_text"
      ]
    },
    {
      "cell_type": "code",
      "execution_count": 2,
      "metadata": {
        "id": "gmow_LXQfBuV"
      },
      "outputs": [],
      "source": [
        "import os\n",
        "import re\n",
        "import pandas as pd\n",
        "import numpy as np\n",
        "from google.colab import drive\n",
        "import nltk\n",
        "from nltk.corpus import stopwords\n",
        "\n",
        "import sqlite3\n",
        "import pandas as pd\n",
        "import matplotlib.pyplot as plt\n",
        "pd.set_option('display.max_colwidth', 100000)\n",
        "import string\n",
        "import argparse\n",
        "import random\n",
        "\n",
        "from sklearn.preprocessing import LabelEncoder\n",
        "from sklearn.metrics import accuracy_score, precision_recall_fscore_support\n",
        "\n",
        "from sklearn.utils.class_weight import compute_sample_weight\n",
        "from sklearn.feature_extraction.text import TfidfVectorizer\n",
        "from sklearn.naive_bayes import MultinomialNB\n",
        "from sklearn.pipeline import Pipeline\n",
        "from sklearn.model_selection import train_test_split\n",
        "from sklearn.preprocessing import OneHotEncoder\n",
        "\n",
        "import tensorflow as tf\n",
        "from tensorflow.keras.callbacks import EarlyStopping, ReduceLROnPlateau\n",
        "from tensorflow.keras.layers import TextVectorization\n",
        "from tensorflow.keras import layers\n",
        "from tensorflow.keras.models import load_model\n",
        "\n",
        "import tensorflow_hub as hub\n",
        "import tensorflow_text\n",
        "\n"
      ]
    },
    {
      "cell_type": "markdown",
      "metadata": {
        "id": "ml-akxhSZFNG"
      },
      "source": [
        "# Helper function"
      ]
    },
    {
      "cell_type": "code",
      "execution_count": 3,
      "metadata": {
        "id": "3a5TsAn9ZIhs"
      },
      "outputs": [],
      "source": [
        "def calculate_results(y_true, y_pred):\n",
        "  \"\"\"\n",
        "  Calculates model accuracy, precision, recall and f1 score of a binary classification model.\n",
        "\n",
        "  Args:\n",
        "      y_true: true labels in the form of a 1D array\n",
        "      y_pred: predicted labels in the form of a 1D array\n",
        "\n",
        "  Returns a dictionary of accuracy, precision, recall, f1-score.\n",
        "  \"\"\"\n",
        "  # Calculate model accuracy\n",
        "  model_accuracy = accuracy_score(y_true, y_pred) * 100\n",
        "  # Calculate model precision, recall and f1 score using \"weighted average\n",
        "  model_precision, model_recall, model_f1, _ = precision_recall_fscore_support(y_true, y_pred, average=\"weighted\")\n",
        "  model_results = {\"accuracy\": model_accuracy,\n",
        "                  \"precision\": model_precision,\n",
        "                  \"recall\": model_recall,\n",
        "                  \"f1\": model_f1}\n",
        "  return model_results\n"
      ]
    },
    {
      "cell_type": "markdown",
      "metadata": {
        "id": "a_4XOqAlfXXh"
      },
      "source": [
        "# Dataset importing"
      ]
    },
    {
      "cell_type": "code",
      "execution_count": 7,
      "metadata": {
        "colab": {
          "base_uri": "https://localhost:8080/"
        },
        "id": "0kWcFiI5SO-d",
        "outputId": "9586c0c5-f502-44e4-fce9-a6f81a4b68b9"
      },
      "outputs": [
        {
          "name": "stdout",
          "output_type": "stream",
          "text": [
            "Downloading...\n",
            "From: https://drive.google.com/uc?id=1U5DQkaFOBmW19Orm2VzAPNJpw-5ipjek\n",
            "To: /content/dialects_database.db\n",
            "\r  0% 0.00/29.0M [00:00<?, ?B/s]\r 51% 14.7M/29.0M [00:00<00:00, 146MB/s]\r100% 29.0M/29.0M [00:00<00:00, 196MB/s]\n"
          ]
        }
      ],
      "source": [
        "!gdown https://drive.google.com/uc?id=1U5DQkaFOBmW19Orm2VzAPNJpw-5ipjek"
      ]
    },
    {
      "cell_type": "code",
      "execution_count": 8,
      "metadata": {
        "id": "Y9I1T17Mfg6T"
      },
      "outputs": [],
      "source": [
        "database_file ='dialects_database.db'\n"
      ]
    },
    {
      "cell_type": "code",
      "execution_count": 9,
      "metadata": {
        "id": "gsISqUxRgAbN"
      },
      "outputs": [],
      "source": [
        "con = sqlite3.connect(database_file)"
      ]
    },
    {
      "cell_type": "code",
      "execution_count": 10,
      "metadata": {
        "colab": {
          "base_uri": "https://localhost:8080/"
        },
        "id": "6-56r9qggXQ_",
        "outputId": "6170fb17-cc77-4f48-cc54-83155ba5e368"
      },
      "outputs": [
        {
          "name": "stdout",
          "output_type": "stream",
          "text": [
            "table names\n",
            "[('id_text',), ('id_dialect',)]\n",
            "id_text table\n",
            "(1009754958479151232, '@toha_Altomy @gy_yah قليلين ادب ومنافقين. لو اختهم او قريبتهم تتعاكس تقولي عليهم من نشاط حقوق المرأة من ردة فعلهم.')\n",
            "(1009794751548313600, '@AlmFaisal 😂😂 الليبيين متقلبين!!!\\nبس بالنسبة ليا انا ميليشياوي زمان وتوة')\n",
            "(1019989115490787200, '@smsm071990 @ALMOGRBE كل 20 تانيه شاب ليبي بيرتاح لبنت مختلفة ويلاحظ انها غير كل البنات وبيحس كأنه يعرفها من زمان. بعدين يتزوج وحدة منهن وممكن اثنين ولاثلاثة وتنقلب الرومانسية لعياط وشياط وتهزيب\\nand they live happily ever after\\nذي اند')\n",
            "(1035479791758135168, '@AboryPro @lyranoo85 رانيا عقليتك متخلفة. اولا الانسان يلي يحتاج اهل يخاف منهم علشان يكون محترم هو انسان قليل الادب اصلاً. ثانياً شن ذنب يلي معندهش اب ولا ام ولا خوت ولا خوات؟ يعني اليتيمة متستحقش تتزوج؟ وثالثاً ليش البنت هي بس لازم ادير الف حساب للراجل؟ هي متستحقش يندارلها الف حساب ولا هي عبدة؟')\n",
            "(1035481122921164800, '@lyranoo85 شكلك متعقدة علشان الراجل لي تحبيه ازوج بنت يتيمة ولا بنت معندهش خوت. هدي اعصابك وفكينا من التخلف امتاعك')\n",
            "id_dialect table\n",
            "(1009754958479151232, 'LY')\n",
            "(1009794751548313600, 'LY')\n",
            "(1019989115490787200, 'LY')\n",
            "(1035479791758135168, 'LY')\n",
            "(1035481122921164800, 'LY')\n"
          ]
        }
      ],
      "source": [
        "# investigating the db\n",
        "\n",
        "sql_query1 = \"\"\"SELECT name FROM sqlite_master\n",
        "  WHERE type='table';\"\"\"\n",
        "\n",
        "sql_query2=\"\"\"SELECT * from id_text LIMIT 5;\"\"\"\n",
        "sql_query3=\"\"\"SELECT * from id_dialect LIMIT 5;\"\"\"\n",
        "\n",
        "\n",
        "cursor = con.cursor()\n",
        "\n",
        "print('table names')\n",
        "cursor.execute(sql_query1)\n",
        "output1=cursor.fetchall()\n",
        "print(output1)\n",
        "\n",
        "print('id_text table')\n",
        "cursor.execute(sql_query2)\n",
        "output2 = cursor.fetchall()\n",
        "for row in output2:\n",
        "  print(row)\n",
        "\n",
        "print('id_dialect table')\n",
        "cursor.execute(sql_query3)\n",
        "output3 = cursor.fetchall()\n",
        "for row in output3:\n",
        "  print(row)\n",
        "\n",
        "con.close()"
      ]
    },
    {
      "cell_type": "code",
      "execution_count": 11,
      "metadata": {
        "id": "n8gWWBzbg7Fm"
      },
      "outputs": [],
      "source": [
        "# joining the two tables by id column\n",
        "table_1 = 'id_text'\n",
        "table_2 = 'id_dialect'\n",
        "sql_query_join = f\"\"\"SELECT {table_1}.id, {table_1}.text , {table_2}.dialect\n",
        "                     FROM {table_1}\n",
        "                     JOIN {table_2}\n",
        "                     ON {table_1}.id = {table_2}.id\n",
        "\"\"\""
      ]
    },
    {
      "cell_type": "code",
      "execution_count": 12,
      "metadata": {
        "colab": {
          "base_uri": "https://localhost:8080/",
          "height": 0
        },
        "id": "tncnKfvooTga",
        "outputId": "92d05f0e-88fa-4939-a910-84ea997c18e0"
      },
      "outputs": [
        {
          "data": {
            "application/vnd.google.colaboratory.intrinsic+json": {
              "type": "dataframe",
              "variable_name": "df"
            },
            "text/html": [
              "\n",
              "  <div id=\"df-2f504f5a-6c41-48ca-b376-7a7d2503d0e9\" class=\"colab-df-container\">\n",
              "    <div>\n",
              "<style scoped>\n",
              "    .dataframe tbody tr th:only-of-type {\n",
              "        vertical-align: middle;\n",
              "    }\n",
              "\n",
              "    .dataframe tbody tr th {\n",
              "        vertical-align: top;\n",
              "    }\n",
              "\n",
              "    .dataframe thead th {\n",
              "        text-align: right;\n",
              "    }\n",
              "</style>\n",
              "<table border=\"1\" class=\"dataframe\">\n",
              "  <thead>\n",
              "    <tr style=\"text-align: right;\">\n",
              "      <th></th>\n",
              "      <th>id</th>\n",
              "      <th>text</th>\n",
              "      <th>dialect</th>\n",
              "    </tr>\n",
              "  </thead>\n",
              "  <tbody>\n",
              "    <tr>\n",
              "      <th>0</th>\n",
              "      <td>1009754958479151232</td>\n",
              "      <td>@toha_Altomy @gy_yah قليلين ادب ومنافقين. لو اختهم او قريبتهم تتعاكس تقولي عليهم من نشاط حقوق المرأة من ردة فعلهم.</td>\n",
              "      <td>LY</td>\n",
              "    </tr>\n",
              "    <tr>\n",
              "      <th>1</th>\n",
              "      <td>1009794751548313600</td>\n",
              "      <td>@AlmFaisal 😂😂 الليبيين متقلبين!!!\\nبس بالنسبة ليا انا ميليشياوي زمان وتوة</td>\n",
              "      <td>LY</td>\n",
              "    </tr>\n",
              "    <tr>\n",
              "      <th>2</th>\n",
              "      <td>1019989115490787200</td>\n",
              "      <td>@smsm071990 @ALMOGRBE كل 20 تانيه شاب ليبي بيرتاح لبنت مختلفة ويلاحظ انها غير كل البنات وبيحس كأنه يعرفها من زمان. بعدين يتزوج وحدة منهن وممكن اثنين ولاثلاثة وتنقلب الرومانسية لعياط وشياط وتهزيب\\nand they live happily ever after\\nذي اند</td>\n",
              "      <td>LY</td>\n",
              "    </tr>\n",
              "    <tr>\n",
              "      <th>3</th>\n",
              "      <td>1035479791758135168</td>\n",
              "      <td>@AboryPro @lyranoo85 رانيا عقليتك متخلفة. اولا الانسان يلي يحتاج اهل يخاف منهم علشان يكون محترم هو انسان قليل الادب اصلاً. ثانياً شن ذنب يلي معندهش اب ولا ام ولا خوت ولا خوات؟ يعني اليتيمة متستحقش تتزوج؟ وثالثاً ليش البنت هي بس لازم ادير الف حساب للراجل؟ هي متستحقش يندارلها الف حساب ولا هي عبدة؟</td>\n",
              "      <td>LY</td>\n",
              "    </tr>\n",
              "    <tr>\n",
              "      <th>4</th>\n",
              "      <td>1035481122921164800</td>\n",
              "      <td>@lyranoo85 شكلك متعقدة علشان الراجل لي تحبيه ازوج بنت يتيمة ولا بنت معندهش خوت. هدي اعصابك وفكينا من التخلف امتاعك</td>\n",
              "      <td>LY</td>\n",
              "    </tr>\n",
              "    <tr>\n",
              "      <th>...</th>\n",
              "      <td>...</td>\n",
              "      <td>...</td>\n",
              "      <td>...</td>\n",
              "    </tr>\n",
              "    <tr>\n",
              "      <th>147720</th>\n",
              "      <td>982775354405376000</td>\n",
              "      <td>الناس دي بتنفخ في قربة مقدودة بالدارجي كده  البلد دي لو ما الكيزان ديل راحو مافي حياه شريفه في البلد دي لان سبب الفساد والمصائب الموجودة #التطلع_لسودان_افضل</td>\n",
              "      <td>SD</td>\n",
              "    </tr>\n",
              "    <tr>\n",
              "      <th>147721</th>\n",
              "      <td>980728852224860160</td>\n",
              "      <td>@Wail_Hamza @amiromer انت عايش وين بره السودان ولا شنو ماشايف البحصل دا</td>\n",
              "      <td>SD</td>\n",
              "    </tr>\n",
              "    <tr>\n",
              "      <th>147722</th>\n",
              "      <td>975502734668500992</td>\n",
              "      <td>مااحرم نفسي ميسي حريف ولعاب برضو ..\\nمدريدي وافتخر 🇪🇸</td>\n",
              "      <td>SD</td>\n",
              "    </tr>\n",
              "    <tr>\n",
              "      <th>147723</th>\n",
              "      <td>980207908641263616</td>\n",
              "      <td>ياخي ديل ماخلو  للشيطان وإبليس شي لكن يروحو وين من ربنا ونحن وراك وراك ياكوز ياعفن الأيام معدوده خلاص  #تعرف_علي_الكيزان</td>\n",
              "      <td>SD</td>\n",
              "    </tr>\n",
              "    <tr>\n",
              "      <th>147724</th>\n",
              "      <td>981080482380238848</td>\n",
              "      <td>@abdomaged127 النبي فيك صدمتني ياخي عاوز تعويض</td>\n",
              "      <td>SD</td>\n",
              "    </tr>\n",
              "  </tbody>\n",
              "</table>\n",
              "<p>147725 rows × 3 columns</p>\n",
              "</div>\n",
              "    <div class=\"colab-df-buttons\">\n",
              "\n",
              "  <div class=\"colab-df-container\">\n",
              "    <button class=\"colab-df-convert\" onclick=\"convertToInteractive('df-2f504f5a-6c41-48ca-b376-7a7d2503d0e9')\"\n",
              "            title=\"Convert this dataframe to an interactive table.\"\n",
              "            style=\"display:none;\">\n",
              "\n",
              "  <svg xmlns=\"http://www.w3.org/2000/svg\" height=\"24px\" viewBox=\"0 -960 960 960\">\n",
              "    <path d=\"M120-120v-720h720v720H120Zm60-500h600v-160H180v160Zm220 220h160v-160H400v160Zm0 220h160v-160H400v160ZM180-400h160v-160H180v160Zm440 0h160v-160H620v160ZM180-180h160v-160H180v160Zm440 0h160v-160H620v160Z\"/>\n",
              "  </svg>\n",
              "    </button>\n",
              "\n",
              "  <style>\n",
              "    .colab-df-container {\n",
              "      display:flex;\n",
              "      gap: 12px;\n",
              "    }\n",
              "\n",
              "    .colab-df-convert {\n",
              "      background-color: #E8F0FE;\n",
              "      border: none;\n",
              "      border-radius: 50%;\n",
              "      cursor: pointer;\n",
              "      display: none;\n",
              "      fill: #1967D2;\n",
              "      height: 32px;\n",
              "      padding: 0 0 0 0;\n",
              "      width: 32px;\n",
              "    }\n",
              "\n",
              "    .colab-df-convert:hover {\n",
              "      background-color: #E2EBFA;\n",
              "      box-shadow: 0px 1px 2px rgba(60, 64, 67, 0.3), 0px 1px 3px 1px rgba(60, 64, 67, 0.15);\n",
              "      fill: #174EA6;\n",
              "    }\n",
              "\n",
              "    .colab-df-buttons div {\n",
              "      margin-bottom: 4px;\n",
              "    }\n",
              "\n",
              "    [theme=dark] .colab-df-convert {\n",
              "      background-color: #3B4455;\n",
              "      fill: #D2E3FC;\n",
              "    }\n",
              "\n",
              "    [theme=dark] .colab-df-convert:hover {\n",
              "      background-color: #434B5C;\n",
              "      box-shadow: 0px 1px 3px 1px rgba(0, 0, 0, 0.15);\n",
              "      filter: drop-shadow(0px 1px 2px rgba(0, 0, 0, 0.3));\n",
              "      fill: #FFFFFF;\n",
              "    }\n",
              "  </style>\n",
              "\n",
              "    <script>\n",
              "      const buttonEl =\n",
              "        document.querySelector('#df-2f504f5a-6c41-48ca-b376-7a7d2503d0e9 button.colab-df-convert');\n",
              "      buttonEl.style.display =\n",
              "        google.colab.kernel.accessAllowed ? 'block' : 'none';\n",
              "\n",
              "      async function convertToInteractive(key) {\n",
              "        const element = document.querySelector('#df-2f504f5a-6c41-48ca-b376-7a7d2503d0e9');\n",
              "        const dataTable =\n",
              "          await google.colab.kernel.invokeFunction('convertToInteractive',\n",
              "                                                    [key], {});\n",
              "        if (!dataTable) return;\n",
              "\n",
              "        const docLinkHtml = 'Like what you see? Visit the ' +\n",
              "          '<a target=\"_blank\" href=https://colab.research.google.com/notebooks/data_table.ipynb>data table notebook</a>'\n",
              "          + ' to learn more about interactive tables.';\n",
              "        element.innerHTML = '';\n",
              "        dataTable['output_type'] = 'display_data';\n",
              "        await google.colab.output.renderOutput(dataTable, element);\n",
              "        const docLink = document.createElement('div');\n",
              "        docLink.innerHTML = docLinkHtml;\n",
              "        element.appendChild(docLink);\n",
              "      }\n",
              "    </script>\n",
              "  </div>\n",
              "\n",
              "\n",
              "<div id=\"df-7d9fff5e-750c-466b-b731-8bca7a54819f\">\n",
              "  <button class=\"colab-df-quickchart\" onclick=\"quickchart('df-7d9fff5e-750c-466b-b731-8bca7a54819f')\"\n",
              "            title=\"Suggest charts\"\n",
              "            style=\"display:none;\">\n",
              "\n",
              "<svg xmlns=\"http://www.w3.org/2000/svg\" height=\"24px\"viewBox=\"0 0 24 24\"\n",
              "     width=\"24px\">\n",
              "    <g>\n",
              "        <path d=\"M19 3H5c-1.1 0-2 .9-2 2v14c0 1.1.9 2 2 2h14c1.1 0 2-.9 2-2V5c0-1.1-.9-2-2-2zM9 17H7v-7h2v7zm4 0h-2V7h2v10zm4 0h-2v-4h2v4z\"/>\n",
              "    </g>\n",
              "</svg>\n",
              "  </button>\n",
              "\n",
              "<style>\n",
              "  .colab-df-quickchart {\n",
              "      --bg-color: #E8F0FE;\n",
              "      --fill-color: #1967D2;\n",
              "      --hover-bg-color: #E2EBFA;\n",
              "      --hover-fill-color: #174EA6;\n",
              "      --disabled-fill-color: #AAA;\n",
              "      --disabled-bg-color: #DDD;\n",
              "  }\n",
              "\n",
              "  [theme=dark] .colab-df-quickchart {\n",
              "      --bg-color: #3B4455;\n",
              "      --fill-color: #D2E3FC;\n",
              "      --hover-bg-color: #434B5C;\n",
              "      --hover-fill-color: #FFFFFF;\n",
              "      --disabled-bg-color: #3B4455;\n",
              "      --disabled-fill-color: #666;\n",
              "  }\n",
              "\n",
              "  .colab-df-quickchart {\n",
              "    background-color: var(--bg-color);\n",
              "    border: none;\n",
              "    border-radius: 50%;\n",
              "    cursor: pointer;\n",
              "    display: none;\n",
              "    fill: var(--fill-color);\n",
              "    height: 32px;\n",
              "    padding: 0;\n",
              "    width: 32px;\n",
              "  }\n",
              "\n",
              "  .colab-df-quickchart:hover {\n",
              "    background-color: var(--hover-bg-color);\n",
              "    box-shadow: 0 1px 2px rgba(60, 64, 67, 0.3), 0 1px 3px 1px rgba(60, 64, 67, 0.15);\n",
              "    fill: var(--button-hover-fill-color);\n",
              "  }\n",
              "\n",
              "  .colab-df-quickchart-complete:disabled,\n",
              "  .colab-df-quickchart-complete:disabled:hover {\n",
              "    background-color: var(--disabled-bg-color);\n",
              "    fill: var(--disabled-fill-color);\n",
              "    box-shadow: none;\n",
              "  }\n",
              "\n",
              "  .colab-df-spinner {\n",
              "    border: 2px solid var(--fill-color);\n",
              "    border-color: transparent;\n",
              "    border-bottom-color: var(--fill-color);\n",
              "    animation:\n",
              "      spin 1s steps(1) infinite;\n",
              "  }\n",
              "\n",
              "  @keyframes spin {\n",
              "    0% {\n",
              "      border-color: transparent;\n",
              "      border-bottom-color: var(--fill-color);\n",
              "      border-left-color: var(--fill-color);\n",
              "    }\n",
              "    20% {\n",
              "      border-color: transparent;\n",
              "      border-left-color: var(--fill-color);\n",
              "      border-top-color: var(--fill-color);\n",
              "    }\n",
              "    30% {\n",
              "      border-color: transparent;\n",
              "      border-left-color: var(--fill-color);\n",
              "      border-top-color: var(--fill-color);\n",
              "      border-right-color: var(--fill-color);\n",
              "    }\n",
              "    40% {\n",
              "      border-color: transparent;\n",
              "      border-right-color: var(--fill-color);\n",
              "      border-top-color: var(--fill-color);\n",
              "    }\n",
              "    60% {\n",
              "      border-color: transparent;\n",
              "      border-right-color: var(--fill-color);\n",
              "    }\n",
              "    80% {\n",
              "      border-color: transparent;\n",
              "      border-right-color: var(--fill-color);\n",
              "      border-bottom-color: var(--fill-color);\n",
              "    }\n",
              "    90% {\n",
              "      border-color: transparent;\n",
              "      border-bottom-color: var(--fill-color);\n",
              "    }\n",
              "  }\n",
              "</style>\n",
              "\n",
              "  <script>\n",
              "    async function quickchart(key) {\n",
              "      const quickchartButtonEl =\n",
              "        document.querySelector('#' + key + ' button');\n",
              "      quickchartButtonEl.disabled = true;  // To prevent multiple clicks.\n",
              "      quickchartButtonEl.classList.add('colab-df-spinner');\n",
              "      try {\n",
              "        const charts = await google.colab.kernel.invokeFunction(\n",
              "            'suggestCharts', [key], {});\n",
              "      } catch (error) {\n",
              "        console.error('Error during call to suggestCharts:', error);\n",
              "      }\n",
              "      quickchartButtonEl.classList.remove('colab-df-spinner');\n",
              "      quickchartButtonEl.classList.add('colab-df-quickchart-complete');\n",
              "    }\n",
              "    (() => {\n",
              "      let quickchartButtonEl =\n",
              "        document.querySelector('#df-7d9fff5e-750c-466b-b731-8bca7a54819f button');\n",
              "      quickchartButtonEl.style.display =\n",
              "        google.colab.kernel.accessAllowed ? 'block' : 'none';\n",
              "    })();\n",
              "  </script>\n",
              "</div>\n",
              "\n",
              "  <div id=\"id_8556447c-2294-49b2-800f-4c4c35463512\">\n",
              "    <style>\n",
              "      .colab-df-generate {\n",
              "        background-color: #E8F0FE;\n",
              "        border: none;\n",
              "        border-radius: 50%;\n",
              "        cursor: pointer;\n",
              "        display: none;\n",
              "        fill: #1967D2;\n",
              "        height: 32px;\n",
              "        padding: 0 0 0 0;\n",
              "        width: 32px;\n",
              "      }\n",
              "\n",
              "      .colab-df-generate:hover {\n",
              "        background-color: #E2EBFA;\n",
              "        box-shadow: 0px 1px 2px rgba(60, 64, 67, 0.3), 0px 1px 3px 1px rgba(60, 64, 67, 0.15);\n",
              "        fill: #174EA6;\n",
              "      }\n",
              "\n",
              "      [theme=dark] .colab-df-generate {\n",
              "        background-color: #3B4455;\n",
              "        fill: #D2E3FC;\n",
              "      }\n",
              "\n",
              "      [theme=dark] .colab-df-generate:hover {\n",
              "        background-color: #434B5C;\n",
              "        box-shadow: 0px 1px 3px 1px rgba(0, 0, 0, 0.15);\n",
              "        filter: drop-shadow(0px 1px 2px rgba(0, 0, 0, 0.3));\n",
              "        fill: #FFFFFF;\n",
              "      }\n",
              "    </style>\n",
              "    <button class=\"colab-df-generate\" onclick=\"generateWithVariable('df')\"\n",
              "            title=\"Generate code using this dataframe.\"\n",
              "            style=\"display:none;\">\n",
              "\n",
              "  <svg xmlns=\"http://www.w3.org/2000/svg\" height=\"24px\"viewBox=\"0 0 24 24\"\n",
              "       width=\"24px\">\n",
              "    <path d=\"M7,19H8.4L18.45,9,17,7.55,7,17.6ZM5,21V16.75L18.45,3.32a2,2,0,0,1,2.83,0l1.4,1.43a1.91,1.91,0,0,1,.58,1.4,1.91,1.91,0,0,1-.58,1.4L9.25,21ZM18.45,9,17,7.55Zm-12,3A5.31,5.31,0,0,0,4.9,8.1,5.31,5.31,0,0,0,1,6.5,5.31,5.31,0,0,0,4.9,4.9,5.31,5.31,0,0,0,6.5,1,5.31,5.31,0,0,0,8.1,4.9,5.31,5.31,0,0,0,12,6.5,5.46,5.46,0,0,0,6.5,12Z\"/>\n",
              "  </svg>\n",
              "    </button>\n",
              "    <script>\n",
              "      (() => {\n",
              "      const buttonEl =\n",
              "        document.querySelector('#id_8556447c-2294-49b2-800f-4c4c35463512 button.colab-df-generate');\n",
              "      buttonEl.style.display =\n",
              "        google.colab.kernel.accessAllowed ? 'block' : 'none';\n",
              "\n",
              "      buttonEl.onclick = () => {\n",
              "        google.colab.notebook.generateWithVariable('df');\n",
              "      }\n",
              "      })();\n",
              "    </script>\n",
              "  </div>\n",
              "\n",
              "    </div>\n",
              "  </div>\n"
            ],
            "text/plain": [
              "                         id  \\\n",
              "0       1009754958479151232   \n",
              "1       1009794751548313600   \n",
              "2       1019989115490787200   \n",
              "3       1035479791758135168   \n",
              "4       1035481122921164800   \n",
              "...                     ...   \n",
              "147720   982775354405376000   \n",
              "147721   980728852224860160   \n",
              "147722   975502734668500992   \n",
              "147723   980207908641263616   \n",
              "147724   981080482380238848   \n",
              "\n",
              "                                                                                                                                                                                                                                                                                                            text  \\\n",
              "0                                                                                                                                                                                             @toha_Altomy @gy_yah قليلين ادب ومنافقين. لو اختهم او قريبتهم تتعاكس تقولي عليهم من نشاط حقوق المرأة من ردة فعلهم.   \n",
              "1                                                                                                                                                                                                                                      @AlmFaisal 😂😂 الليبيين متقلبين!!!\\nبس بالنسبة ليا انا ميليشياوي زمان وتوة   \n",
              "2                                                                   @smsm071990 @ALMOGRBE كل 20 تانيه شاب ليبي بيرتاح لبنت مختلفة ويلاحظ انها غير كل البنات وبيحس كأنه يعرفها من زمان. بعدين يتزوج وحدة منهن وممكن اثنين ولاثلاثة وتنقلب الرومانسية لعياط وشياط وتهزيب\\nand they live happily ever after\\nذي اند   \n",
              "3       @AboryPro @lyranoo85 رانيا عقليتك متخلفة. اولا الانسان يلي يحتاج اهل يخاف منهم علشان يكون محترم هو انسان قليل الادب اصلاً. ثانياً شن ذنب يلي معندهش اب ولا ام ولا خوت ولا خوات؟ يعني اليتيمة متستحقش تتزوج؟ وثالثاً ليش البنت هي بس لازم ادير الف حساب للراجل؟ هي متستحقش يندارلها الف حساب ولا هي عبدة؟   \n",
              "4                                                                                                                                                                                             @lyranoo85 شكلك متعقدة علشان الراجل لي تحبيه ازوج بنت يتيمة ولا بنت معندهش خوت. هدي اعصابك وفكينا من التخلف امتاعك   \n",
              "...                                                                                                                                                                                                                                                                                                          ...   \n",
              "147720                                                                                                                                              الناس دي بتنفخ في قربة مقدودة بالدارجي كده  البلد دي لو ما الكيزان ديل راحو مافي حياه شريفه في البلد دي لان سبب الفساد والمصائب الموجودة #التطلع_لسودان_افضل   \n",
              "147721                                                                                                                                                                                                                                   @Wail_Hamza @amiromer انت عايش وين بره السودان ولا شنو ماشايف البحصل دا   \n",
              "147722                                                                                                                                                                                                                                                     مااحرم نفسي ميسي حريف ولعاب برضو ..\\nمدريدي وافتخر 🇪🇸   \n",
              "147723                                                                                                                                                                                  ياخي ديل ماخلو  للشيطان وإبليس شي لكن يروحو وين من ربنا ونحن وراك وراك ياكوز ياعفن الأيام معدوده خلاص  #تعرف_علي_الكيزان   \n",
              "147724                                                                                                                                                                                                                                                            @abdomaged127 النبي فيك صدمتني ياخي عاوز تعويض   \n",
              "\n",
              "       dialect  \n",
              "0           LY  \n",
              "1           LY  \n",
              "2           LY  \n",
              "3           LY  \n",
              "4           LY  \n",
              "...        ...  \n",
              "147720      SD  \n",
              "147721      SD  \n",
              "147722      SD  \n",
              "147723      SD  \n",
              "147724      SD  \n",
              "\n",
              "[147725 rows x 3 columns]"
            ]
          },
          "execution_count": 12,
          "metadata": {},
          "output_type": "execute_result"
        }
      ],
      "source": [
        "con2 = sqlite3.connect(database_file)\n",
        "\n",
        "df = pd.read_sql_query(sql_query_join, con2)\n",
        "\n",
        "con2.close()\n",
        "\n",
        "# display the df\n",
        "df"
      ]
    },
    {
      "cell_type": "markdown",
      "metadata": {
        "id": "YIkOu3Fuo9dA"
      },
      "source": [
        "# EDA"
      ]
    },
    {
      "cell_type": "code",
      "execution_count": 13,
      "metadata": {
        "colab": {
          "base_uri": "https://localhost:8080/",
          "height": 0
        },
        "id": "2ygQZ7LzplFA",
        "outputId": "76b865a1-28d0-4c34-f985-5ce1c0f6da1b"
      },
      "outputs": [
        {
          "data": {
            "application/vnd.google.colaboratory.intrinsic+json": {
              "type": "dataframe",
              "variable_name": "df"
            },
            "text/html": [
              "\n",
              "  <div id=\"df-9fe9160b-9b34-49d5-adbc-eda15e235794\" class=\"colab-df-container\">\n",
              "    <div>\n",
              "<style scoped>\n",
              "    .dataframe tbody tr th:only-of-type {\n",
              "        vertical-align: middle;\n",
              "    }\n",
              "\n",
              "    .dataframe tbody tr th {\n",
              "        vertical-align: top;\n",
              "    }\n",
              "\n",
              "    .dataframe thead th {\n",
              "        text-align: right;\n",
              "    }\n",
              "</style>\n",
              "<table border=\"1\" class=\"dataframe\">\n",
              "  <thead>\n",
              "    <tr style=\"text-align: right;\">\n",
              "      <th></th>\n",
              "      <th>id</th>\n",
              "      <th>text</th>\n",
              "      <th>dialect</th>\n",
              "    </tr>\n",
              "  </thead>\n",
              "  <tbody>\n",
              "    <tr>\n",
              "      <th>0</th>\n",
              "      <td>1009754958479151232</td>\n",
              "      <td>@toha_Altomy @gy_yah قليلين ادب ومنافقين. لو اختهم او قريبتهم تتعاكس تقولي عليهم من نشاط حقوق المرأة من ردة فعلهم.</td>\n",
              "      <td>LY</td>\n",
              "    </tr>\n",
              "    <tr>\n",
              "      <th>1</th>\n",
              "      <td>1009794751548313600</td>\n",
              "      <td>@AlmFaisal 😂😂 الليبيين متقلبين!!!\\nبس بالنسبة ليا انا ميليشياوي زمان وتوة</td>\n",
              "      <td>LY</td>\n",
              "    </tr>\n",
              "    <tr>\n",
              "      <th>2</th>\n",
              "      <td>1019989115490787200</td>\n",
              "      <td>@smsm071990 @ALMOGRBE كل 20 تانيه شاب ليبي بيرتاح لبنت مختلفة ويلاحظ انها غير كل البنات وبيحس كأنه يعرفها من زمان. بعدين يتزوج وحدة منهن وممكن اثنين ولاثلاثة وتنقلب الرومانسية لعياط وشياط وتهزيب\\nand they live happily ever after\\nذي اند</td>\n",
              "      <td>LY</td>\n",
              "    </tr>\n",
              "    <tr>\n",
              "      <th>3</th>\n",
              "      <td>1035479791758135168</td>\n",
              "      <td>@AboryPro @lyranoo85 رانيا عقليتك متخلفة. اولا الانسان يلي يحتاج اهل يخاف منهم علشان يكون محترم هو انسان قليل الادب اصلاً. ثانياً شن ذنب يلي معندهش اب ولا ام ولا خوت ولا خوات؟ يعني اليتيمة متستحقش تتزوج؟ وثالثاً ليش البنت هي بس لازم ادير الف حساب للراجل؟ هي متستحقش يندارلها الف حساب ولا هي عبدة؟</td>\n",
              "      <td>LY</td>\n",
              "    </tr>\n",
              "    <tr>\n",
              "      <th>4</th>\n",
              "      <td>1035481122921164800</td>\n",
              "      <td>@lyranoo85 شكلك متعقدة علشان الراجل لي تحبيه ازوج بنت يتيمة ولا بنت معندهش خوت. هدي اعصابك وفكينا من التخلف امتاعك</td>\n",
              "      <td>LY</td>\n",
              "    </tr>\n",
              "  </tbody>\n",
              "</table>\n",
              "</div>\n",
              "    <div class=\"colab-df-buttons\">\n",
              "\n",
              "  <div class=\"colab-df-container\">\n",
              "    <button class=\"colab-df-convert\" onclick=\"convertToInteractive('df-9fe9160b-9b34-49d5-adbc-eda15e235794')\"\n",
              "            title=\"Convert this dataframe to an interactive table.\"\n",
              "            style=\"display:none;\">\n",
              "\n",
              "  <svg xmlns=\"http://www.w3.org/2000/svg\" height=\"24px\" viewBox=\"0 -960 960 960\">\n",
              "    <path d=\"M120-120v-720h720v720H120Zm60-500h600v-160H180v160Zm220 220h160v-160H400v160Zm0 220h160v-160H400v160ZM180-400h160v-160H180v160Zm440 0h160v-160H620v160ZM180-180h160v-160H180v160Zm440 0h160v-160H620v160Z\"/>\n",
              "  </svg>\n",
              "    </button>\n",
              "\n",
              "  <style>\n",
              "    .colab-df-container {\n",
              "      display:flex;\n",
              "      gap: 12px;\n",
              "    }\n",
              "\n",
              "    .colab-df-convert {\n",
              "      background-color: #E8F0FE;\n",
              "      border: none;\n",
              "      border-radius: 50%;\n",
              "      cursor: pointer;\n",
              "      display: none;\n",
              "      fill: #1967D2;\n",
              "      height: 32px;\n",
              "      padding: 0 0 0 0;\n",
              "      width: 32px;\n",
              "    }\n",
              "\n",
              "    .colab-df-convert:hover {\n",
              "      background-color: #E2EBFA;\n",
              "      box-shadow: 0px 1px 2px rgba(60, 64, 67, 0.3), 0px 1px 3px 1px rgba(60, 64, 67, 0.15);\n",
              "      fill: #174EA6;\n",
              "    }\n",
              "\n",
              "    .colab-df-buttons div {\n",
              "      margin-bottom: 4px;\n",
              "    }\n",
              "\n",
              "    [theme=dark] .colab-df-convert {\n",
              "      background-color: #3B4455;\n",
              "      fill: #D2E3FC;\n",
              "    }\n",
              "\n",
              "    [theme=dark] .colab-df-convert:hover {\n",
              "      background-color: #434B5C;\n",
              "      box-shadow: 0px 1px 3px 1px rgba(0, 0, 0, 0.15);\n",
              "      filter: drop-shadow(0px 1px 2px rgba(0, 0, 0, 0.3));\n",
              "      fill: #FFFFFF;\n",
              "    }\n",
              "  </style>\n",
              "\n",
              "    <script>\n",
              "      const buttonEl =\n",
              "        document.querySelector('#df-9fe9160b-9b34-49d5-adbc-eda15e235794 button.colab-df-convert');\n",
              "      buttonEl.style.display =\n",
              "        google.colab.kernel.accessAllowed ? 'block' : 'none';\n",
              "\n",
              "      async function convertToInteractive(key) {\n",
              "        const element = document.querySelector('#df-9fe9160b-9b34-49d5-adbc-eda15e235794');\n",
              "        const dataTable =\n",
              "          await google.colab.kernel.invokeFunction('convertToInteractive',\n",
              "                                                    [key], {});\n",
              "        if (!dataTable) return;\n",
              "\n",
              "        const docLinkHtml = 'Like what you see? Visit the ' +\n",
              "          '<a target=\"_blank\" href=https://colab.research.google.com/notebooks/data_table.ipynb>data table notebook</a>'\n",
              "          + ' to learn more about interactive tables.';\n",
              "        element.innerHTML = '';\n",
              "        dataTable['output_type'] = 'display_data';\n",
              "        await google.colab.output.renderOutput(dataTable, element);\n",
              "        const docLink = document.createElement('div');\n",
              "        docLink.innerHTML = docLinkHtml;\n",
              "        element.appendChild(docLink);\n",
              "      }\n",
              "    </script>\n",
              "  </div>\n",
              "\n",
              "\n",
              "<div id=\"df-80347775-cae8-4bfa-ab72-d69618394aac\">\n",
              "  <button class=\"colab-df-quickchart\" onclick=\"quickchart('df-80347775-cae8-4bfa-ab72-d69618394aac')\"\n",
              "            title=\"Suggest charts\"\n",
              "            style=\"display:none;\">\n",
              "\n",
              "<svg xmlns=\"http://www.w3.org/2000/svg\" height=\"24px\"viewBox=\"0 0 24 24\"\n",
              "     width=\"24px\">\n",
              "    <g>\n",
              "        <path d=\"M19 3H5c-1.1 0-2 .9-2 2v14c0 1.1.9 2 2 2h14c1.1 0 2-.9 2-2V5c0-1.1-.9-2-2-2zM9 17H7v-7h2v7zm4 0h-2V7h2v10zm4 0h-2v-4h2v4z\"/>\n",
              "    </g>\n",
              "</svg>\n",
              "  </button>\n",
              "\n",
              "<style>\n",
              "  .colab-df-quickchart {\n",
              "      --bg-color: #E8F0FE;\n",
              "      --fill-color: #1967D2;\n",
              "      --hover-bg-color: #E2EBFA;\n",
              "      --hover-fill-color: #174EA6;\n",
              "      --disabled-fill-color: #AAA;\n",
              "      --disabled-bg-color: #DDD;\n",
              "  }\n",
              "\n",
              "  [theme=dark] .colab-df-quickchart {\n",
              "      --bg-color: #3B4455;\n",
              "      --fill-color: #D2E3FC;\n",
              "      --hover-bg-color: #434B5C;\n",
              "      --hover-fill-color: #FFFFFF;\n",
              "      --disabled-bg-color: #3B4455;\n",
              "      --disabled-fill-color: #666;\n",
              "  }\n",
              "\n",
              "  .colab-df-quickchart {\n",
              "    background-color: var(--bg-color);\n",
              "    border: none;\n",
              "    border-radius: 50%;\n",
              "    cursor: pointer;\n",
              "    display: none;\n",
              "    fill: var(--fill-color);\n",
              "    height: 32px;\n",
              "    padding: 0;\n",
              "    width: 32px;\n",
              "  }\n",
              "\n",
              "  .colab-df-quickchart:hover {\n",
              "    background-color: var(--hover-bg-color);\n",
              "    box-shadow: 0 1px 2px rgba(60, 64, 67, 0.3), 0 1px 3px 1px rgba(60, 64, 67, 0.15);\n",
              "    fill: var(--button-hover-fill-color);\n",
              "  }\n",
              "\n",
              "  .colab-df-quickchart-complete:disabled,\n",
              "  .colab-df-quickchart-complete:disabled:hover {\n",
              "    background-color: var(--disabled-bg-color);\n",
              "    fill: var(--disabled-fill-color);\n",
              "    box-shadow: none;\n",
              "  }\n",
              "\n",
              "  .colab-df-spinner {\n",
              "    border: 2px solid var(--fill-color);\n",
              "    border-color: transparent;\n",
              "    border-bottom-color: var(--fill-color);\n",
              "    animation:\n",
              "      spin 1s steps(1) infinite;\n",
              "  }\n",
              "\n",
              "  @keyframes spin {\n",
              "    0% {\n",
              "      border-color: transparent;\n",
              "      border-bottom-color: var(--fill-color);\n",
              "      border-left-color: var(--fill-color);\n",
              "    }\n",
              "    20% {\n",
              "      border-color: transparent;\n",
              "      border-left-color: var(--fill-color);\n",
              "      border-top-color: var(--fill-color);\n",
              "    }\n",
              "    30% {\n",
              "      border-color: transparent;\n",
              "      border-left-color: var(--fill-color);\n",
              "      border-top-color: var(--fill-color);\n",
              "      border-right-color: var(--fill-color);\n",
              "    }\n",
              "    40% {\n",
              "      border-color: transparent;\n",
              "      border-right-color: var(--fill-color);\n",
              "      border-top-color: var(--fill-color);\n",
              "    }\n",
              "    60% {\n",
              "      border-color: transparent;\n",
              "      border-right-color: var(--fill-color);\n",
              "    }\n",
              "    80% {\n",
              "      border-color: transparent;\n",
              "      border-right-color: var(--fill-color);\n",
              "      border-bottom-color: var(--fill-color);\n",
              "    }\n",
              "    90% {\n",
              "      border-color: transparent;\n",
              "      border-bottom-color: var(--fill-color);\n",
              "    }\n",
              "  }\n",
              "</style>\n",
              "\n",
              "  <script>\n",
              "    async function quickchart(key) {\n",
              "      const quickchartButtonEl =\n",
              "        document.querySelector('#' + key + ' button');\n",
              "      quickchartButtonEl.disabled = true;  // To prevent multiple clicks.\n",
              "      quickchartButtonEl.classList.add('colab-df-spinner');\n",
              "      try {\n",
              "        const charts = await google.colab.kernel.invokeFunction(\n",
              "            'suggestCharts', [key], {});\n",
              "      } catch (error) {\n",
              "        console.error('Error during call to suggestCharts:', error);\n",
              "      }\n",
              "      quickchartButtonEl.classList.remove('colab-df-spinner');\n",
              "      quickchartButtonEl.classList.add('colab-df-quickchart-complete');\n",
              "    }\n",
              "    (() => {\n",
              "      let quickchartButtonEl =\n",
              "        document.querySelector('#df-80347775-cae8-4bfa-ab72-d69618394aac button');\n",
              "      quickchartButtonEl.style.display =\n",
              "        google.colab.kernel.accessAllowed ? 'block' : 'none';\n",
              "    })();\n",
              "  </script>\n",
              "</div>\n",
              "\n",
              "    </div>\n",
              "  </div>\n"
            ],
            "text/plain": [
              "                    id  \\\n",
              "0  1009754958479151232   \n",
              "1  1009794751548313600   \n",
              "2  1019989115490787200   \n",
              "3  1035479791758135168   \n",
              "4  1035481122921164800   \n",
              "\n",
              "                                                                                                                                                                                                                                                                                                       text  \\\n",
              "0                                                                                                                                                                                        @toha_Altomy @gy_yah قليلين ادب ومنافقين. لو اختهم او قريبتهم تتعاكس تقولي عليهم من نشاط حقوق المرأة من ردة فعلهم.   \n",
              "1                                                                                                                                                                                                                                 @AlmFaisal 😂😂 الليبيين متقلبين!!!\\nبس بالنسبة ليا انا ميليشياوي زمان وتوة   \n",
              "2                                                              @smsm071990 @ALMOGRBE كل 20 تانيه شاب ليبي بيرتاح لبنت مختلفة ويلاحظ انها غير كل البنات وبيحس كأنه يعرفها من زمان. بعدين يتزوج وحدة منهن وممكن اثنين ولاثلاثة وتنقلب الرومانسية لعياط وشياط وتهزيب\\nand they live happily ever after\\nذي اند   \n",
              "3  @AboryPro @lyranoo85 رانيا عقليتك متخلفة. اولا الانسان يلي يحتاج اهل يخاف منهم علشان يكون محترم هو انسان قليل الادب اصلاً. ثانياً شن ذنب يلي معندهش اب ولا ام ولا خوت ولا خوات؟ يعني اليتيمة متستحقش تتزوج؟ وثالثاً ليش البنت هي بس لازم ادير الف حساب للراجل؟ هي متستحقش يندارلها الف حساب ولا هي عبدة؟   \n",
              "4                                                                                                                                                                                        @lyranoo85 شكلك متعقدة علشان الراجل لي تحبيه ازوج بنت يتيمة ولا بنت معندهش خوت. هدي اعصابك وفكينا من التخلف امتاعك   \n",
              "\n",
              "  dialect  \n",
              "0      LY  \n",
              "1      LY  \n",
              "2      LY  \n",
              "3      LY  \n",
              "4      LY  "
            ]
          },
          "execution_count": 13,
          "metadata": {},
          "output_type": "execute_result"
        }
      ],
      "source": [
        "df.head()"
      ]
    },
    {
      "cell_type": "code",
      "execution_count": 14,
      "metadata": {
        "colab": {
          "base_uri": "https://localhost:8080/"
        },
        "id": "rbGrBrZHqmPu",
        "outputId": "411b7cc9-387f-493f-f624-078b4a7f5c1a"
      },
      "outputs": [
        {
          "name": "stdout",
          "output_type": "stream",
          "text": [
            "<class 'pandas.core.frame.DataFrame'>\n",
            "RangeIndex: 147725 entries, 0 to 147724\n",
            "Data columns (total 3 columns):\n",
            " #   Column   Non-Null Count   Dtype \n",
            "---  ------   --------------   ----- \n",
            " 0   id       147725 non-null  int64 \n",
            " 1   text     147725 non-null  object\n",
            " 2   dialect  147725 non-null  object\n",
            "dtypes: int64(1), object(2)\n",
            "memory usage: 3.4+ MB\n"
          ]
        }
      ],
      "source": [
        "# basic stats\n",
        "df.info()"
      ]
    },
    {
      "cell_type": "code",
      "execution_count": 15,
      "metadata": {
        "colab": {
          "base_uri": "https://localhost:8080/"
        },
        "id": "qrnB1ZnGwo4C",
        "outputId": "ed2f3514-f8be-422e-942f-828656e72ec5"
      },
      "outputs": [
        {
          "data": {
            "text/plain": [
              "0"
            ]
          },
          "execution_count": 15,
          "metadata": {},
          "output_type": "execute_result"
        }
      ],
      "source": [
        "# Checking for duplicates\n",
        "df.duplicated(\"text\").sum()"
      ]
    },
    {
      "cell_type": "code",
      "execution_count": 16,
      "metadata": {
        "colab": {
          "base_uri": "https://localhost:8080/"
        },
        "id": "H_lhC7iHw5F1",
        "outputId": "824f767f-88ff-4458-afba-2bd145aab99a"
      },
      "outputs": [
        {
          "data": {
            "text/plain": [
              "id         0\n",
              "text       0\n",
              "dialect    0\n",
              "dtype: int64"
            ]
          },
          "execution_count": 16,
          "metadata": {},
          "output_type": "execute_result"
        }
      ],
      "source": [
        "# checking for nulls\n",
        "df.isnull().sum()"
      ]
    },
    {
      "cell_type": "code",
      "execution_count": 17,
      "metadata": {
        "colab": {
          "base_uri": "https://localhost:8080/",
          "height": 0
        },
        "id": "chy-9uZnu2TK",
        "outputId": "777f24aa-f490-43c7-ec96-ec6bf6e0a0f3"
      },
      "outputs": [
        {
          "data": {
            "image/png": "[encoded data removed]",
            "text/plain": [
              "<Figure size 640x480 with 1 Axes>"
            ]
          },
          "metadata": {},
          "output_type": "display_data"
        }
      ],
      "source": [
        "# length of tweets distribution [chars]\n",
        "\n",
        "plt.hist(df['text'].apply(len))\n",
        "plt.title('Distribution Of tweets length')\n",
        "plt.ylabel('Frequency')\n",
        "plt.xlabel('Length')\n",
        "\n",
        "plt.show()"
      ]
    },
    {
      "cell_type": "code",
      "execution_count": 18,
      "metadata": {
        "colab": {
          "base_uri": "https://localhost:8080/",
          "height": 0
        },
        "id": "fvzpLVx_xhPs",
        "outputId": "76a6d5e6-35c2-4e45-81a7-10ce187cf6ff"
      },
      "outputs": [
        {
          "data": {
            "image/png": "[encoded data removed]",
            "text/plain": [
              "<Figure size 640x480 with 1 Axes>"
            ]
          },
          "metadata": {},
          "output_type": "display_data"
        }
      ],
      "source": [
        "# distribution of dialects\n",
        "dialect_counts = df['dialect'].value_counts()\n",
        "\n",
        "plt.bar(dialect_counts.index,dialect_counts )\n",
        "plt.title('Distribution Of Dialects')\n",
        "plt.ylabel('Count')\n",
        "plt.xlabel('Dialect')\n",
        "\n",
        "plt.show()"
      ]
    },
    {
      "cell_type": "code",
      "execution_count": 19,
      "metadata": {
        "colab": {
          "base_uri": "https://localhost:8080/",
          "height": 0
        },
        "id": "1Fq-xBRSztmZ",
        "outputId": "b357a823-7221-40eb-a1b9-0524dc13846c"
      },
      "outputs": [
        {
          "data": {
            "application/vnd.google.colaboratory.intrinsic+json": {
              "summary": "{\n  \"name\": \"df\",\n  \"rows\": 10,\n  \"fields\": [\n    {\n      \"column\": \"id\",\n      \"properties\": {\n        \"dtype\": \"number\",\n        \"std\": 172555273967112704,\n        \"min\": 713845295327657984,\n        \"max\": 1172934171209191424,\n        \"num_unique_values\": 10,\n        \"samples\": [\n          1130602263523790848,\n          1172934171209191424,\n          1125036663133081600\n        ],\n        \"semantic_type\": \"\",\n        \"description\": \"\"\n      }\n    },\n    {\n      \"column\": \"text\",\n      \"properties\": {\n        \"dtype\": \"string\",\n        \"num_unique_values\": 10,\n        \"samples\": [\n          \"\\u0645\\u0635\\u0637\\u0641\\u0649 \\u062d\\u0633\\u0646\\u0649 \\u0645\\u0634 fake \\u0647\\u0648 \\u0628\\u064a\\u0627\\u0643\\u0644 \\u0639\\u064a\\u0634 \\u0628\\u0633 \\u0648\\u0642\\u0631\\u0631 \\u064a\\u0639\\u0628\\u0649 \\u0627\\u0644\\u062f\\u064a\\u0646 \\u0641\\u0649 \\u062d\\u0644\\u0642\\u0627\\u062a \\u0648\\u064a\\u0644\\u0641\\u0647 \\u0628\\u0634\\u0648\\u064a\\u0629 \\u0633\\u0647\\u0648\\u0643\\u0629 \\u0639\\u0634\\u0627\\u0646 \\u064a\\u0639\\u0631\\u0641 \\u064a\\u0628\\u064a\\u0639 \\ud83d\\ude02\\ud83d\\ude02\\ud83d\\ude02 https://t.co/TIcFHerl6L\",\n          \"@sudania1000 \\u0627\\u0644\\u0645\\u0641\\u0631\\u0648\\u0636 \\u0642\\u0627\\u0626\\u0645\\u0629 \\u0627\\u0644\\u062a\\u0647\\u0645 \\u062a\\u0643\\u0648\\u0646 \\u0645\\u062c\\u0647\\u0632\\u0627\\u0647\\u0627 \\u0642\\u062d\\u062a \\u0648\\u062e\\u0627\\u062a\\u0647 \\u0627\\u0644\\u0645\\u0644\\u0641 \\u0642\\u062f\\u0627\\u0645 \\u0627\\u0644\\u0646\\u064a\\u0627\\u0628\\u0647 \\u0648\\u0627\\u0644\\u062f\\u0639\\u0648\\u0627\\u064a \\u0627\\u0644\\u0645\\u0631\\u0641\\u0648\\u0639\\u0647 \\u0636\\u062f\\u0647 \\u0643\\u0644\\u0647\\u0627 \\u0627\\u062e\\u0644\\u0635 \\u0645\\u0646 \\u062f\\u0639\\u0648\\u0647 \\u0623\\u062e\\u0634 \\u0641\\u064a \\u062f\\u0639\\u0648\\u0647 \\u0627\\u0644\\u0645\\u062d\\u0627\\u0645\\u064a\\u064a\\u0646 \\u062f\\u064a\\u0644 \\u062f\\u0641\\u0627\\u0639 \\u0628\\u062f\\u0627\\u0641\\u0639\\u0648 \\u0639\\u0646\\u0647 \\u0628\\u0633\",\n          \"@alatrozy \\u0627\\u0644\\u0645\\u0644\\u0648\\u062e\\u064a\\u0647 \\u0639\\u0646\\u062f\\u0646\\u0627 \\u0647\\u0646\\u0627 \\u0628\\u064a\\u0633\\u0645\\u0648\\u0647\\u0627 green soup \\u0648\\u062a\\u0639\\u0627\\u0645\\u0644 \\u0645\\u0639\\u0627\\u0645\\u0644\\u0647 \\u0627\\u0644\\u0634\\u0648\\u0631\\u0628\\u0647  \\u0648\\u0627\\u0644\\u0639\\u062f\\u0633 \\u0627\\u064a\\u0636\\u0627 lentils  \\u0634\\u0648\\u0631\\u0628\\u0647 \\u0628\\u0633 \\u0628\\u062f\\u064a\\u0644 \\u0627\\u0644\\u0634\\u0627\\u064a  \\u0645\\u0645\\u0643\\u0646 \\u0643\\u0648\\u0628\\u0627\\u064a\\u0647 \\u0634\\u0648\\u0631\\u0628\\u0647 \\u0639\\u062f\\u0633 \\u0639\\u0646\\u062f\\u0645\\u0627 \\u064a\\u0643\\u0648\\u0646 \\u0627\\u0644\\u062c\\u0648 \\u0635\\u0642\\u064a\\u0639 \\u0641\\u0643\\u0631\\u0647\"\n        ],\n        \"semantic_type\": \"\",\n        \"description\": \"\"\n      }\n    },\n    {\n      \"column\": \"dialect\",\n      \"properties\": {\n        \"dtype\": \"category\",\n        \"num_unique_values\": 4,\n        \"samples\": [\n          \"SD\",\n          \"EG\",\n          \"LB\"\n        ],\n        \"semantic_type\": \"\",\n        \"description\": \"\"\n      }\n    }\n  ]\n}",
              "type": "dataframe"
            },
            "text/html": [
              "\n",
              "  <div id=\"df-fffab4e6-d01d-4093-97ff-a72cdd536401\" class=\"colab-df-container\">\n",
              "    <div>\n",
              "<style scoped>\n",
              "    .dataframe tbody tr th:only-of-type {\n",
              "        vertical-align: middle;\n",
              "    }\n",
              "\n",
              "    .dataframe tbody tr th {\n",
              "        vertical-align: top;\n",
              "    }\n",
              "\n",
              "    .dataframe thead th {\n",
              "        text-align: right;\n",
              "    }\n",
              "</style>\n",
              "<table border=\"1\" class=\"dataframe\">\n",
              "  <thead>\n",
              "    <tr style=\"text-align: right;\">\n",
              "      <th></th>\n",
              "      <th>id</th>\n",
              "      <th>text</th>\n",
              "      <th>dialect</th>\n",
              "    </tr>\n",
              "  </thead>\n",
              "  <tbody>\n",
              "    <tr>\n",
              "      <th>108454</th>\n",
              "      <td>1111892027850002432</td>\n",
              "      <td>لما توقع وما حدا يشوفك☺️\\nصدقني أن الفرحة أكبر من الالم \\n#بتكملها_جمباز😂😂😂😂</td>\n",
              "      <td>LB</td>\n",
              "    </tr>\n",
              "    <tr>\n",
              "      <th>143627</th>\n",
              "      <td>1172934171209191424</td>\n",
              "      <td>@sudania1000 المفروض قائمة التهم تكون مجهزاها قحت وخاته الملف قدام النيابه والدعواي المرفوعه ضده كلها اخلص من دعوه أخش في دعوه المحاميين ديل دفاع بدافعو عنه بس</td>\n",
              "      <td>SD</td>\n",
              "    </tr>\n",
              "    <tr>\n",
              "      <th>10182</th>\n",
              "      <td>786837476333740032</td>\n",
              "      <td>@_HAMAN @KhalilLarbah ههههههه خليل رزيل مايتحشمش</td>\n",
              "      <td>LY</td>\n",
              "    </tr>\n",
              "    <tr>\n",
              "      <th>6147</th>\n",
              "      <td>1171402720282066944</td>\n",
              "      <td>نبات نحدث في المرايا مش نسمع في حديث بنية</td>\n",
              "      <td>LY</td>\n",
              "    </tr>\n",
              "    <tr>\n",
              "      <th>59954</th>\n",
              "      <td>1057329999760498816</td>\n",
              "      <td>@Hadeezz اسمها ايه الحلقة دي عشان اشوفها 😂😂؟</td>\n",
              "      <td>EG</td>\n",
              "    </tr>\n",
              "    <tr>\n",
              "      <th>104493</th>\n",
              "      <td>1125036663133081600</td>\n",
              "      <td>@alatrozy الملوخيه عندنا هنا بيسموها green soup وتعامل معامله الشوربه  والعدس ايضا lentils  شوربه بس بديل الشاي  ممكن كوبايه شوربه عدس عندما يكون الجو صقيع فكره</td>\n",
              "      <td>EG</td>\n",
              "    </tr>\n",
              "    <tr>\n",
              "      <th>84345</th>\n",
              "      <td>1078193035106762752</td>\n",
              "      <td>@lolaasem14 الف سلامه عليكي💐\\nانا عايز حقي ناشف 😁</td>\n",
              "      <td>EG</td>\n",
              "    </tr>\n",
              "    <tr>\n",
              "      <th>13171</th>\n",
              "      <td>827277701408923648</td>\n",
              "      <td>@Perhapsme_ ممكن انتي اللي جيتي في المكان الغلط ..</td>\n",
              "      <td>LY</td>\n",
              "    </tr>\n",
              "    <tr>\n",
              "      <th>96125</th>\n",
              "      <td>1130602263523790848</td>\n",
              "      <td>مصطفى حسنى مش fake هو بياكل عيش بس وقرر يعبى الدين فى حلقات ويلفه بشوية سهوكة عشان يعرف يبيع 😂😂😂 https://t.co/TIcFHerl6L</td>\n",
              "      <td>EG</td>\n",
              "    </tr>\n",
              "    <tr>\n",
              "      <th>91413</th>\n",
              "      <td>713845295327657984</td>\n",
              "      <td>تنيهده بتقول ألف كلمه ساكته..</td>\n",
              "      <td>EG</td>\n",
              "    </tr>\n",
              "  </tbody>\n",
              "</table>\n",
              "</div>\n",
              "    <div class=\"colab-df-buttons\">\n",
              "\n",
              "  <div class=\"colab-df-container\">\n",
              "    <button class=\"colab-df-convert\" onclick=\"convertToInteractive('df-fffab4e6-d01d-4093-97ff-a72cdd536401')\"\n",
              "            title=\"Convert this dataframe to an interactive table.\"\n",
              "            style=\"display:none;\">\n",
              "\n",
              "  <svg xmlns=\"http://www.w3.org/2000/svg\" height=\"24px\" viewBox=\"0 -960 960 960\">\n",
              "    <path d=\"M120-120v-720h720v720H120Zm60-500h600v-160H180v160Zm220 220h160v-160H400v160Zm0 220h160v-160H400v160ZM180-400h160v-160H180v160Zm440 0h160v-160H620v160ZM180-180h160v-160H180v160Zm440 0h160v-160H620v160Z\"/>\n",
              "  </svg>\n",
              "    </button>\n",
              "\n",
              "  <style>\n",
              "    .colab-df-container {\n",
              "      display:flex;\n",
              "      gap: 12px;\n",
              "    }\n",
              "\n",
              "    .colab-df-convert {\n",
              "      background-color: #E8F0FE;\n",
              "      border: none;\n",
              "      border-radius: 50%;\n",
              "      cursor: pointer;\n",
              "      display: none;\n",
              "      fill: #1967D2;\n",
              "      height: 32px;\n",
              "      padding: 0 0 0 0;\n",
              "      width: 32px;\n",
              "    }\n",
              "\n",
              "    .colab-df-convert:hover {\n",
              "      background-color: #E2EBFA;\n",
              "      box-shadow: 0px 1px 2px rgba(60, 64, 67, 0.3), 0px 1px 3px 1px rgba(60, 64, 67, 0.15);\n",
              "      fill: #174EA6;\n",
              "    }\n",
              "\n",
              "    .colab-df-buttons div {\n",
              "      margin-bottom: 4px;\n",
              "    }\n",
              "\n",
              "    [theme=dark] .colab-df-convert {\n",
              "      background-color: #3B4455;\n",
              "      fill: #D2E3FC;\n",
              "    }\n",
              "\n",
              "    [theme=dark] .colab-df-convert:hover {\n",
              "      background-color: #434B5C;\n",
              "      box-shadow: 0px 1px 3px 1px rgba(0, 0, 0, 0.15);\n",
              "      filter: drop-shadow(0px 1px 2px rgba(0, 0, 0, 0.3));\n",
              "      fill: #FFFFFF;\n",
              "    }\n",
              "  </style>\n",
              "\n",
              "    <script>\n",
              "      const buttonEl =\n",
              "        document.querySelector('#df-fffab4e6-d01d-4093-97ff-a72cdd536401 button.colab-df-convert');\n",
              "      buttonEl.style.display =\n",
              "        google.colab.kernel.accessAllowed ? 'block' : 'none';\n",
              "\n",
              "      async function convertToInteractive(key) {\n",
              "        const element = document.querySelector('#df-fffab4e6-d01d-4093-97ff-a72cdd536401');\n",
              "        const dataTable =\n",
              "          await google.colab.kernel.invokeFunction('convertToInteractive',\n",
              "                                                    [key], {});\n",
              "        if (!dataTable) return;\n",
              "\n",
              "        const docLinkHtml = 'Like what you see? Visit the ' +\n",
              "          '<a target=\"_blank\" href=https://colab.research.google.com/notebooks/data_table.ipynb>data table notebook</a>'\n",
              "          + ' to learn more about interactive tables.';\n",
              "        element.innerHTML = '';\n",
              "        dataTable['output_type'] = 'display_data';\n",
              "        await google.colab.output.renderOutput(dataTable, element);\n",
              "        const docLink = document.createElement('div');\n",
              "        docLink.innerHTML = docLinkHtml;\n",
              "        element.appendChild(docLink);\n",
              "      }\n",
              "    </script>\n",
              "  </div>\n",
              "\n",
              "\n",
              "<div id=\"df-c09cf3d7-451d-40df-82b0-a71b657ead19\">\n",
              "  <button class=\"colab-df-quickchart\" onclick=\"quickchart('df-c09cf3d7-451d-40df-82b0-a71b657ead19')\"\n",
              "            title=\"Suggest charts\"\n",
              "            style=\"display:none;\">\n",
              "\n",
              "<svg xmlns=\"http://www.w3.org/2000/svg\" height=\"24px\"viewBox=\"0 0 24 24\"\n",
              "     width=\"24px\">\n",
              "    <g>\n",
              "        <path d=\"M19 3H5c-1.1 0-2 .9-2 2v14c0 1.1.9 2 2 2h14c1.1 0 2-.9 2-2V5c0-1.1-.9-2-2-2zM9 17H7v-7h2v7zm4 0h-2V7h2v10zm4 0h-2v-4h2v4z\"/>\n",
              "    </g>\n",
              "</svg>\n",
              "  </button>\n",
              "\n",
              "<style>\n",
              "  .colab-df-quickchart {\n",
              "      --bg-color: #E8F0FE;\n",
              "      --fill-color: #1967D2;\n",
              "      --hover-bg-color: #E2EBFA;\n",
              "      --hover-fill-color: #174EA6;\n",
              "      --disabled-fill-color: #AAA;\n",
              "      --disabled-bg-color: #DDD;\n",
              "  }\n",
              "\n",
              "  [theme=dark] .colab-df-quickchart {\n",
              "      --bg-color: #3B4455;\n",
              "      --fill-color: #D2E3FC;\n",
              "      --hover-bg-color: #434B5C;\n",
              "      --hover-fill-color: #FFFFFF;\n",
              "      --disabled-bg-color: #3B4455;\n",
              "      --disabled-fill-color: #666;\n",
              "  }\n",
              "\n",
              "  .colab-df-quickchart {\n",
              "    background-color: var(--bg-color);\n",
              "    border: none;\n",
              "    border-radius: 50%;\n",
              "    cursor: pointer;\n",
              "    display: none;\n",
              "    fill: var(--fill-color);\n",
              "    height: 32px;\n",
              "    padding: 0;\n",
              "    width: 32px;\n",
              "  }\n",
              "\n",
              "  .colab-df-quickchart:hover {\n",
              "    background-color: var(--hover-bg-color);\n",
              "    box-shadow: 0 1px 2px rgba(60, 64, 67, 0.3), 0 1px 3px 1px rgba(60, 64, 67, 0.15);\n",
              "    fill: var(--button-hover-fill-color);\n",
              "  }\n",
              "\n",
              "  .colab-df-quickchart-complete:disabled,\n",
              "  .colab-df-quickchart-complete:disabled:hover {\n",
              "    background-color: var(--disabled-bg-color);\n",
              "    fill: var(--disabled-fill-color);\n",
              "    box-shadow: none;\n",
              "  }\n",
              "\n",
              "  .colab-df-spinner {\n",
              "    border: 2px solid var(--fill-color);\n",
              "    border-color: transparent;\n",
              "    border-bottom-color: var(--fill-color);\n",
              "    animation:\n",
              "      spin 1s steps(1) infinite;\n",
              "  }\n",
              "\n",
              "  @keyframes spin {\n",
              "    0% {\n",
              "      border-color: transparent;\n",
              "      border-bottom-color: var(--fill-color);\n",
              "      border-left-color: var(--fill-color);\n",
              "    }\n",
              "    20% {\n",
              "      border-color: transparent;\n",
              "      border-left-color: var(--fill-color);\n",
              "      border-top-color: var(--fill-color);\n",
              "    }\n",
              "    30% {\n",
              "      border-color: transparent;\n",
              "      border-left-color: var(--fill-color);\n",
              "      border-top-color: var(--fill-color);\n",
              "      border-right-color: var(--fill-color);\n",
              "    }\n",
              "    40% {\n",
              "      border-color: transparent;\n",
              "      border-right-color: var(--fill-color);\n",
              "      border-top-color: var(--fill-color);\n",
              "    }\n",
              "    60% {\n",
              "      border-color: transparent;\n",
              "      border-right-color: var(--fill-color);\n",
              "    }\n",
              "    80% {\n",
              "      border-color: transparent;\n",
              "      border-right-color: var(--fill-color);\n",
              "      border-bottom-color: var(--fill-color);\n",
              "    }\n",
              "    90% {\n",
              "      border-color: transparent;\n",
              "      border-bottom-color: var(--fill-color);\n",
              "    }\n",
              "  }\n",
              "</style>\n",
              "\n",
              "  <script>\n",
              "    async function quickchart(key) {\n",
              "      const quickchartButtonEl =\n",
              "        document.querySelector('#' + key + ' button');\n",
              "      quickchartButtonEl.disabled = true;  // To prevent multiple clicks.\n",
              "      quickchartButtonEl.classList.add('colab-df-spinner');\n",
              "      try {\n",
              "        const charts = await google.colab.kernel.invokeFunction(\n",
              "            'suggestCharts', [key], {});\n",
              "      } catch (error) {\n",
              "        console.error('Error during call to suggestCharts:', error);\n",
              "      }\n",
              "      quickchartButtonEl.classList.remove('colab-df-spinner');\n",
              "      quickchartButtonEl.classList.add('colab-df-quickchart-complete');\n",
              "    }\n",
              "    (() => {\n",
              "      let quickchartButtonEl =\n",
              "        document.querySelector('#df-c09cf3d7-451d-40df-82b0-a71b657ead19 button');\n",
              "      quickchartButtonEl.style.display =\n",
              "        google.colab.kernel.accessAllowed ? 'block' : 'none';\n",
              "    })();\n",
              "  </script>\n",
              "</div>\n",
              "\n",
              "    </div>\n",
              "  </div>\n"
            ],
            "text/plain": [
              "                         id  \\\n",
              "108454  1111892027850002432   \n",
              "143627  1172934171209191424   \n",
              "10182    786837476333740032   \n",
              "6147    1171402720282066944   \n",
              "59954   1057329999760498816   \n",
              "104493  1125036663133081600   \n",
              "84345   1078193035106762752   \n",
              "13171    827277701408923648   \n",
              "96125   1130602263523790848   \n",
              "91413    713845295327657984   \n",
              "\n",
              "                                                                                                                                                                    text  \\\n",
              "108454                                                                                      لما توقع وما حدا يشوفك☺️\\nصدقني أن الفرحة أكبر من الالم \\n#بتكملها_جمباز😂😂😂😂   \n",
              "143627   @sudania1000 المفروض قائمة التهم تكون مجهزاها قحت وخاته الملف قدام النيابه والدعواي المرفوعه ضده كلها اخلص من دعوه أخش في دعوه المحاميين ديل دفاع بدافعو عنه بس   \n",
              "10182                                                                                                                   @_HAMAN @KhalilLarbah ههههههه خليل رزيل مايتحشمش   \n",
              "6147                                                                                                                           نبات نحدث في المرايا مش نسمع في حديث بنية   \n",
              "59954                                                                                                                       @Hadeezz اسمها ايه الحلقة دي عشان اشوفها 😂😂؟   \n",
              "104493  @alatrozy الملوخيه عندنا هنا بيسموها green soup وتعامل معامله الشوربه  والعدس ايضا lentils  شوربه بس بديل الشاي  ممكن كوبايه شوربه عدس عندما يكون الجو صقيع فكره   \n",
              "84345                                                                                                                  @lolaasem14 الف سلامه عليكي💐\\nانا عايز حقي ناشف 😁   \n",
              "13171                                                                                                                 @Perhapsme_ ممكن انتي اللي جيتي في المكان الغلط ..   \n",
              "96125                                           مصطفى حسنى مش fake هو بياكل عيش بس وقرر يعبى الدين فى حلقات ويلفه بشوية سهوكة عشان يعرف يبيع 😂😂😂 https://t.co/TIcFHerl6L   \n",
              "91413                                                                                                                                      تنيهده بتقول ألف كلمه ساكته..   \n",
              "\n",
              "       dialect  \n",
              "108454      LB  \n",
              "143627      SD  \n",
              "10182       LY  \n",
              "6147        LY  \n",
              "59954       EG  \n",
              "104493      EG  \n",
              "84345       EG  \n",
              "13171       LY  \n",
              "96125       EG  \n",
              "91413       EG  "
            ]
          },
          "execution_count": 19,
          "metadata": {},
          "output_type": "execute_result"
        }
      ],
      "source": [
        "# taking a sample from the data to investigate the required preprocessing steps\n",
        "df.sample(10)"
      ]
    },
    {
      "cell_type": "markdown",
      "metadata": {
        "id": "a7TPB2-hyO1B"
      },
      "source": [
        "# Data preprocessing :\n",
        "\n",
        "1. removing stopwords\n",
        "2. removing links\n",
        "3. removing usernames\n",
        "4. removing English words\n",
        "5. removing numbers  \n",
        "6. removing punctiation\n",
        "7. removing Arabic diacritics\n",
        "8. removing redunduent chars like `ههههههههه`\n",
        "9. removing emojies\n",
        "10. remove special chars  \n",
        "11. remove extra whitespaces\n",
        "12. normalizing the arabic letters\n"
      ]
    },
    {
      "cell_type": "code",
      "execution_count": 20,
      "metadata": {
        "colab": {
          "base_uri": "https://localhost:8080/"
        },
        "id": "nYu_fJEBIEPI",
        "outputId": "13fe3a68-ab8e-4480-adc8-1338dc87858d"
      },
      "outputs": [
        {
          "name": "stderr",
          "output_type": "stream",
          "text": [
            "[nltk_data] Downloading package stopwords to /root/nltk_data...\n",
            "[nltk_data]   Unzipping corpora/stopwords.zip.\n"
          ]
        }
      ],
      "source": [
        "nltk.download('stopwords')\n",
        "stop_words = set(stopwords.words('arabic'))\n"
      ]
    },
    {
      "cell_type": "code",
      "execution_count": 21,
      "metadata": {
        "colab": {
          "base_uri": "https://localhost:8080/"
        },
        "id": "vAUdKIRQIin_",
        "outputId": "6aa5f656-bb7c-4217-c985-5a0ef2cd01d0"
      },
      "outputs": [
        {
          "name": "stdout",
          "output_type": "stream",
          "text": [
            "Before:  هنا القاهرة \n",
            "After : القاهرة\n"
          ]
        }
      ],
      "source": [
        "def remove_stopwords(text):\n",
        "    words = text.split()\n",
        "    filtered_words = [word for word in words if word.lower() not in stop_words]\n",
        "    return ' '.join(filtered_words)\n",
        "\n",
        "raw_text = \" هنا القاهرة \"\n",
        "preprocessed_text = remove_stopwords(raw_text)\n",
        "\n",
        "print(f'Before: {raw_text}')\n",
        "print(f'After : {preprocessed_text}')"
      ]
    },
    {
      "cell_type": "code",
      "execution_count": 22,
      "metadata": {
        "colab": {
          "base_uri": "https://localhost:8080/"
        },
        "id": "YBmg9mTEzmgl",
        "outputId": "8a8cfa8a-0d2a-4a02-f2bd-51f948ea6b74"
      },
      "outputs": [
        {
          "name": "stdout",
          "output_type": "stream",
          "text": [
            "Before: صباح الخير  www.google.com https://perfect-match.com https://t.co/hFT5eQ9Nlj\thttps://t.co/AQDKPXo3ky\t\n",
            "After : صباح الخير    \t\t\n"
          ]
        }
      ],
      "source": [
        "def remove_links(text):\n",
        "    URL_REGEX =r\"(http[s]?://(?:[a-zA-Z]|[0-9]|[$-@.&+]|[!*(),]|(?:%[0-9a-fA-F][0-9a-fA-F]))+)|(www\\.[a-zA-Z0-9\\-\\._~:/?#\\[\\]@!$&'()*+,;=%]+)\"\n",
        "    text = re.sub(URL_REGEX, '', text)\n",
        "    return text\n",
        "\n",
        "raw_text = \"صباح الخير  www.google.com https://perfect-match.com https://t.co/hFT5eQ9Nlj\thttps://t.co/AQDKPXo3ky\t\"\n",
        "preprocessed_text = remove_links(raw_text)\n",
        "\n",
        "print(f'Before: {raw_text}')\n",
        "print(f'After : {preprocessed_text}')"
      ]
    },
    {
      "cell_type": "code",
      "execution_count": 23,
      "metadata": {
        "colab": {
          "base_uri": "https://localhost:8080/"
        },
        "id": "1S6PiIJGHVC0",
        "outputId": "38bdb5cc-a6d6-4f30-e4b5-e24a1e588e35"
      },
      "outputs": [
        {
          "name": "stdout",
          "output_type": "stream",
          "text": [
            "Before: @NehmatSabeh @Abbadmoh10 يا ريت الاوفياء راحو ع سعودية قبل فرنسا 👌😂\n",
            "After :   يا ريت الاوفياء راحو ع سعودية قبل فرنسا 👌😂\n"
          ]
        }
      ],
      "source": [
        "def remove_usernames(text):\n",
        "  text= re.sub(r'@\\w+','',text)\n",
        "  return text\n",
        "\n",
        "raw_text = \"@NehmatSabeh @Abbadmoh10 يا ريت الاوفياء راحو ع سعودية قبل فرنسا 👌😂\"\n",
        "preprocessed_text = remove_usernames(raw_text)\n",
        "\n",
        "print(f'Before: {raw_text}')\n",
        "print(f'After : {preprocessed_text}')"
      ]
    },
    {
      "cell_type": "code",
      "execution_count": 24,
      "metadata": {
        "colab": {
          "base_uri": "https://localhost:8080/"
        },
        "id": "It8VEy4t3jWI",
        "outputId": "c096a9d0-407b-4f64-c679-be97dc8fddb3"
      },
      "outputs": [
        {
          "name": "stdout",
          "output_type": "stream",
          "text": [
            "Before: May00772264932 @jamil_el_sayyed هيدا زعيم العصابة، وبردو بيسهر ليتابع عمليات السرقة لأن بيخاف يسرقوه زلمه كمان\n",
            "After : 00772264932 @__ هيدا زعيم العصابة، وبردو بيسهر ليتابع عمليات السرقة لأن بيخاف يسرقوه زلمه كمان\n"
          ]
        }
      ],
      "source": [
        "def remove_english(text):\n",
        "  text=re.sub(r\"[a-zA-Z]+\", '', text)\n",
        "  return text\n",
        "\n",
        "raw_text = \"May00772264932 @jamil_el_sayyed هيدا زعيم العصابة، وبردو بيسهر ليتابع عمليات السرقة لأن بيخاف يسرقوه زلمه كمان\"\n",
        "preprocessed_text = remove_english(raw_text)\n",
        "\n",
        "print(f'Before: {raw_text}')\n",
        "print(f'After : {preprocessed_text}')"
      ]
    },
    {
      "cell_type": "code",
      "execution_count": 25,
      "metadata": {
        "colab": {
          "base_uri": "https://localhost:8080/"
        },
        "id": "Igxq2g6Z7i6o",
        "outputId": "ab8a768d-1a19-4f53-8339-eada5aff0e0a"
      },
      "outputs": [
        {
          "name": "stdout",
          "output_type": "stream",
          "text": [
            "Before: 00772264932 @__ هيدا زعيم العصابة، وبردو بيسهر ليتابع عمليات السرقة لأن بيخاف يسرقوه زلمه كمان\n",
            "After :  @__ هيدا زعيم العصابة، وبردو بيسهر ليتابع عمليات السرقة لأن بيخاف يسرقوه زلمه كمان\n"
          ]
        }
      ],
      "source": [
        "def remove_numbers(text):\n",
        "  text=re.sub(r\"\\d+\", '', text)\n",
        "  return text\n",
        "\n",
        "raw_text = \"00772264932 @__ هيدا زعيم العصابة، وبردو بيسهر ليتابع عمليات السرقة لأن بيخاف يسرقوه زلمه كمان\"\n",
        "preprocessed_text = remove_numbers(raw_text)\n",
        "\n",
        "print(f'Before: {raw_text}')\n",
        "print(f'After : {preprocessed_text}')"
      ]
    },
    {
      "cell_type": "code",
      "execution_count": 26,
      "metadata": {
        "id": "-SrhWKURAeWA"
      },
      "outputs": [],
      "source": [
        "arabic_punctuations = '''`÷×؛<>_()*&^%][ـ،/:\"؟.,'{}~¦+|!”…“–ـ'''\n",
        "english_punctuations = string.punctuation\n",
        "punctuations_list = arabic_punctuations + english_punctuations"
      ]
    },
    {
      "cell_type": "code",
      "execution_count": 27,
      "metadata": {
        "colab": {
          "base_uri": "https://localhost:8080/"
        },
        "id": "H-Ezy5GB9Fi2",
        "outputId": "c502c05c-734f-4d6c-c686-452c64099deb"
      },
      "outputs": [
        {
          "name": "stdout",
          "output_type": "stream",
          "text": [
            "Before: @__  # & % * ( ) { } ! ` هيدا زعيم العصابة، وبردو بيسهر ليتابع عمليات السرقة لأن بيخاف يسرقوه زلمه كمان\n",
            "After :             هيدا زعيم العصابة وبردو بيسهر ليتابع عمليات السرقة لأن بيخاف يسرقوه زلمه كمان\n"
          ]
        }
      ],
      "source": [
        "def remove_punctuation(text):\n",
        "    translator = str.maketrans('', '', punctuations_list)\n",
        "    return text.translate(translator)\n",
        "\n",
        "raw_text = \"@__  # & % * ( ) { } ! ` هيدا زعيم العصابة، وبردو بيسهر ليتابع عمليات السرقة لأن بيخاف يسرقوه زلمه كمان\"\n",
        "preprocessed_text = remove_punctuation(raw_text)\n",
        "\n",
        "print(f'Before: {raw_text}')\n",
        "print(f'After : {preprocessed_text}')"
      ]
    },
    {
      "cell_type": "code",
      "execution_count": 28,
      "metadata": {
        "colab": {
          "base_uri": "https://localhost:8080/"
        },
        "id": "-Xo9ywhI-PQJ",
        "outputId": "252a6bb2-665d-488b-f698-f73dde5d0f2f"
      },
      "outputs": [
        {
          "name": "stdout",
          "output_type": "stream",
          "text": [
            "Before:  ( بِسْمِ اللَّـهِ الرَّحْمَـٰنِ الرَّحِيمِ )\n",
            "After :  ( بسم الله الرحمٰن الرحيم )\n"
          ]
        }
      ],
      "source": [
        "def remove_diacritics(text):\n",
        "  arabic_diacritics = re.compile(\"\"\"\n",
        "                             ّ    | # Tashdid\n",
        "                             َ    | # Fatha\n",
        "                             ً    | # Tanwin Fath\n",
        "                             ُ    | # Damma\n",
        "                             ٌ    | # Tanwin Damm\n",
        "                             ِ    | # Kasra\n",
        "                             ٍ    | # Tanwin Kasr\n",
        "                             ْ    | # Sukun\n",
        "                             ـ     # Tatwil/Kashida\n",
        "\n",
        "                         \"\"\", re.VERBOSE)\n",
        "  return re.sub(arabic_diacritics, '', text)\n",
        "\n",
        "raw_text = \" ( بِسْمِ اللَّـهِ الرَّحْمَـٰنِ الرَّحِيمِ )\"\n",
        "preprocessed_text = remove_diacritics(raw_text)\n",
        "\n",
        "print(f'Before: {raw_text}')\n",
        "print(f'After : {preprocessed_text}')\n"
      ]
    },
    {
      "cell_type": "code",
      "execution_count": 29,
      "metadata": {
        "colab": {
          "base_uri": "https://localhost:8080/"
        },
        "id": "xh6KqKGgBtyd",
        "outputId": "0db5bfc1-bc58-44ea-babe-10e9eaaef910"
      },
      "outputs": [
        {
          "name": "stdout",
          "output_type": "stream",
          "text": [
            "Before:  هههههههههه وااااو \n",
            "After :  هه وااو \n"
          ]
        }
      ],
      "source": [
        "def removing_redundant_chars(text):\n",
        "  text=re.sub(r\"(.)\\1{2,}\", r'\\1\\1', text)\n",
        "  return text\n",
        "\n",
        "raw_text = \" هههههههههه وااااو \"\n",
        "preprocessed_text = removing_redundant_chars(raw_text)\n",
        "\n",
        "print(f'Before: {raw_text}')\n",
        "print(f'After : {preprocessed_text}')\n"
      ]
    },
    {
      "cell_type": "code",
      "execution_count": 30,
      "metadata": {
        "colab": {
          "base_uri": "https://localhost:8080/"
        },
        "id": "fKs7EYfmCzvL",
        "outputId": "6d25f3f4-f17c-429b-f229-e7cd9d985f5e"
      },
      "outputs": [
        {
          "name": "stdout",
          "output_type": "stream",
          "text": [
            "Before:  مساء الخير 😉😂😘\t\n",
            "After :  مساء الخير \t\n"
          ]
        }
      ],
      "source": [
        "def remove_emojis(text):\n",
        "    emoji_pattern = re.compile(\"[\"\n",
        "                           u\"\\U0001F600-\\U0001F64F\"  # emoticons\n",
        "                           u\"\\U0001F300-\\U0001F5FF\"  # symbols & pictographs\n",
        "                           u\"\\U0001F680-\\U0001F6FF\"  # transport & map symbols\n",
        "                           u\"\\U0001F700-\\U0001F77F\"  # alchemical symbols\n",
        "                           u\"\\U0001F780-\\U0001F7FF\"  # Geometric Shapes Extended\n",
        "                           u\"\\U0001F800-\\U0001F8FF\"  # Supplemental Arrows-C\n",
        "                           u\"\\U0001F900-\\U0001F9FF\"  # Supplemental Symbols and Pictographs\n",
        "                           u\"\\U0001FA00-\\U0001FA6F\"  # Chess Symbols\n",
        "                           u\"\\U0001FA70-\\U0001FAFF\"  # Symbols and Pictographs Extended-A\n",
        "                           u\"\\U00002702-\\U000027B0\"  # Dingbats\n",
        "                           u\"\\U000024C2-\\U0001F251\"\n",
        "                           \"]+\", flags=re.UNICODE)\n",
        "    return emoji_pattern.sub(r'', text)\n",
        "\n",
        "raw_text = \" مساء الخير 😉😂😘\t\"\n",
        "preprocessed_text = remove_emojis(raw_text)\n",
        "\n",
        "print(f'Before: {raw_text}')\n",
        "print(f'After : {preprocessed_text}')"
      ]
    },
    {
      "cell_type": "code",
      "execution_count": 31,
      "metadata": {
        "colab": {
          "base_uri": "https://localhost:8080/"
        },
        "id": "DEzHfwi3KL_4",
        "outputId": "25ec66bd-5ec3-4282-9454-1c18fb8ddee9"
      },
      "outputs": [
        {
          "name": "stdout",
          "output_type": "stream",
          "text": [
            "Before:   ðŸŒŽðŸŒ  مساء الخير 😉😂😘\t\n",
            "After :  مساء الخير \n"
          ]
        }
      ],
      "source": [
        "def remove_special_chars(text):\n",
        "  # Regex to keep only Arabic letters\n",
        "  text= re.sub(r'[^\\u0600-\\u06FF\\u0750-\\u077F\\u08A0-\\u08FF\\uFB50-\\uFDFF\\uFE70-\\uFEFF]+', ' ', text)\n",
        "  return text\n",
        "\n",
        "raw_text = \"  ðŸŒŽðŸŒ  مساء الخير 😉😂😘\t\"\n",
        "preprocessed_text = remove_special_chars(raw_text)\n",
        "\n",
        "print(f'Before: {raw_text}')\n",
        "print(f'After : {preprocessed_text}')"
      ]
    },
    {
      "cell_type": "code",
      "execution_count": 32,
      "metadata": {
        "colab": {
          "base_uri": "https://localhost:8080/"
        },
        "id": "51G_PJEyLVom",
        "outputId": "36efeec2-354a-446d-c960-a1d5e88ac130"
      },
      "outputs": [
        {
          "name": "stdout",
          "output_type": "stream",
          "text": [
            "Before:        مساء    الخير \n",
            "After : مساء الخير\n"
          ]
        }
      ],
      "source": [
        "def remove_extra_whitespaces(text):\n",
        "  text= re.sub(r'\\s+', ' ', text)\n",
        "  return text.strip()\n",
        "\n",
        "\n",
        "raw_text = \"       مساء    الخير \"\n",
        "preprocessed_text = remove_extra_whitespaces(raw_text)\n",
        "\n",
        "print(f'Before: {raw_text}')\n",
        "print(f'After : {preprocessed_text}')"
      ]
    },
    {
      "cell_type": "code",
      "execution_count": 33,
      "metadata": {
        "colab": {
          "base_uri": "https://localhost:8080/"
        },
        "id": "-WWx3arKOpqp",
        "outputId": "e0105944-1696-4909-ed59-7a91380634b8"
      },
      "outputs": [
        {
          "name": "stdout",
          "output_type": "stream",
          "text": [
            "Before: أإ   ي ى  ه ة \n",
            "\n",
            "After : اا   ي ي  ه ه \n"
          ]
        }
      ],
      "source": [
        "def normalize_chars(text):\n",
        "    preprocessed_text = re.sub(\"[إأآا]\", \"ا\", text)\n",
        "    preprocessed_text = re.sub(\"ى\", \"ي\", preprocessed_text)\n",
        "    preprocessed_text = re.sub(\"ؤ\", \"ء\", preprocessed_text)\n",
        "    preprocessed_text = re.sub(\"ئ\", \"ء\", preprocessed_text)\n",
        "    preprocessed_text = re.sub(\"ة\", \"ه\", preprocessed_text)\n",
        "    preprocessed_text = re.sub(\"گ\", \"ك\", preprocessed_text)\n",
        "    preprocessed_text = re.sub(\"ڤ\", \"ف\", preprocessed_text)\n",
        "    preprocessed_text = re.sub(\"چ\", \"ج\", preprocessed_text)\n",
        "    preprocessed_text = re.sub(\"ژ\", \"ز\", preprocessed_text)\n",
        "    preprocessed_text = re.sub(\"پ\", \"ب\", preprocessed_text)\n",
        "    return preprocessed_text\n",
        "\n",
        "raw_text =\"أإ   ي ى  ه ة \"\n",
        "preprocessed_text = normalize_chars(raw_text)\n",
        "\n",
        "print(f'Before: {raw_text}\\n')\n",
        "print(f'After : {preprocessed_text}')"
      ]
    },
    {
      "cell_type": "code",
      "execution_count": 34,
      "metadata": {
        "id": "EY8ZVM3MO8nb"
      },
      "outputs": [],
      "source": [
        "# Applying preprocessing\n",
        "\n",
        "def preprocess(text):\n",
        "  #stop_words\n",
        "  text = remove_stopwords(text)\n",
        "\n",
        "  #user_names\n",
        "  text = remove_usernames(text)\n",
        "\n",
        "  #emojies\n",
        "  text = remove_emojis(text)\n",
        "\n",
        "  #numbers\n",
        "  text = remove_numbers(text)\n",
        "\n",
        "  #links\n",
        "  text = remove_links(text)\n",
        "\n",
        "  # English\n",
        "  text= remove_english(text)\n",
        "\n",
        "  #diacritics\n",
        "  text=remove_diacritics(text)\n",
        "\n",
        "  # special chars\n",
        "  text=remove_special_chars(text)\n",
        "\n",
        "  # punctuation\n",
        "  text=remove_punctuation(text)\n",
        "\n",
        "  #white_space\n",
        "  text = remove_extra_whitespaces(text)\n",
        "\n",
        "  #normalizeChars\n",
        "  text=normalize_chars(text)\n",
        "\n",
        "  #redundant charachters\n",
        "  text = removing_redundant_chars(text)\n",
        "\n",
        "  return text\n"
      ]
    },
    {
      "cell_type": "code",
      "execution_count": 35,
      "metadata": {
        "colab": {
          "base_uri": "https://localhost:8080/",
          "height": 0
        },
        "id": "01p6kxInPy2v",
        "outputId": "7fc624cb-7ec2-441e-c00a-82018b088246"
      },
      "outputs": [
        {
          "data": {
            "application/vnd.google.colaboratory.intrinsic+json": {
              "type": "dataframe",
              "variable_name": "df_preprocessed"
            },
            "text/html": [
              "\n",
              "  <div id=\"df-e35c0bbd-9037-460e-bafa-2a10a531eca0\" class=\"colab-df-container\">\n",
              "    <div>\n",
              "<style scoped>\n",
              "    .dataframe tbody tr th:only-of-type {\n",
              "        vertical-align: middle;\n",
              "    }\n",
              "\n",
              "    .dataframe tbody tr th {\n",
              "        vertical-align: top;\n",
              "    }\n",
              "\n",
              "    .dataframe thead th {\n",
              "        text-align: right;\n",
              "    }\n",
              "</style>\n",
              "<table border=\"1\" class=\"dataframe\">\n",
              "  <thead>\n",
              "    <tr style=\"text-align: right;\">\n",
              "      <th></th>\n",
              "      <th>text</th>\n",
              "      <th>dialect</th>\n",
              "    </tr>\n",
              "  </thead>\n",
              "  <tbody>\n",
              "    <tr>\n",
              "      <th>0</th>\n",
              "      <td>قليلين ادب ومنافقين اختهم او قريبتهم تتعاكس تقولي عليهم نشاط حقوق المراه رده فعلهم</td>\n",
              "      <td>LY</td>\n",
              "    </tr>\n",
              "    <tr>\n",
              "      <th>1</th>\n",
              "      <td>الليبيين متقلبين بالنسبه ليا انا ميليشياوي زمان وتوه</td>\n",
              "      <td>LY</td>\n",
              "    </tr>\n",
              "    <tr>\n",
              "      <th>2</th>\n",
              "      <td>تانيه شاب ليبي بيرتاح لبنت مختلفه ويلاحظ انها البنات وبيحس كانه يعرفها زمان بعدين يتزوج وحده منهن وممكن ولاثلاثه وتنقلب الرومانسيه لعياط وشياط وتهزيب اند</td>\n",
              "      <td>LY</td>\n",
              "    </tr>\n",
              "    <tr>\n",
              "      <th>3</th>\n",
              "      <td>رانيا عقليتك متخلفه اولا الانسان يلي يحتاج اهل يخاف منهم علشان يكون محترم انسان قليل الادب اصلا ثانيا شن ذنب يلي معندهش اب ام خوت خوات يعني اليتيمه متستحقش تتزوج وثالثا ليش البنت لازم ادير الف حساب للراجل متستحقش يندارلها الف حساب عبده</td>\n",
              "      <td>LY</td>\n",
              "    </tr>\n",
              "    <tr>\n",
              "      <th>4</th>\n",
              "      <td>شكلك متعقده علشان الراجل تحبيه ازوج بنت يتيمه بنت معندهش خوت هدي اعصابك وفكينا التخلف امتاعك</td>\n",
              "      <td>LY</td>\n",
              "    </tr>\n",
              "    <tr>\n",
              "      <th>...</th>\n",
              "      <td>...</td>\n",
              "      <td>...</td>\n",
              "    </tr>\n",
              "    <tr>\n",
              "      <th>147720</th>\n",
              "      <td>الناس دي بتنفخ قربه مقدوده بالدارجي كده البلد دي الكيزان ديل راحو مافي حياه شريفه البلد دي لان سبب الفساد والمصاءب الموجوده التطلع لسودان افضل</td>\n",
              "      <td>SD</td>\n",
              "    </tr>\n",
              "    <tr>\n",
              "      <th>147721</th>\n",
              "      <td>انت عايش وين بره السودان شنو ماشايف البحصل دا</td>\n",
              "      <td>SD</td>\n",
              "    </tr>\n",
              "    <tr>\n",
              "      <th>147722</th>\n",
              "      <td>مااحرم نفسي ميسي حريف ولعاب برضو مدريدي وافتخر</td>\n",
              "      <td>SD</td>\n",
              "    </tr>\n",
              "    <tr>\n",
              "      <th>147723</th>\n",
              "      <td>ياخي ديل ماخلو للشيطان وابليس شي يروحو وين ربنا ونحن وراك وراك ياكوز ياعفن الايام معدوده خلاص تعرف علي الكيزان</td>\n",
              "      <td>SD</td>\n",
              "    </tr>\n",
              "    <tr>\n",
              "      <th>147724</th>\n",
              "      <td>النبي فيك صدمتني ياخي عاوز تعويض</td>\n",
              "      <td>SD</td>\n",
              "    </tr>\n",
              "  </tbody>\n",
              "</table>\n",
              "<p>147725 rows × 2 columns</p>\n",
              "</div>\n",
              "    <div class=\"colab-df-buttons\">\n",
              "\n",
              "  <div class=\"colab-df-container\">\n",
              "    <button class=\"colab-df-convert\" onclick=\"convertToInteractive('df-e35c0bbd-9037-460e-bafa-2a10a531eca0')\"\n",
              "            title=\"Convert this dataframe to an interactive table.\"\n",
              "            style=\"display:none;\">\n",
              "\n",
              "  <svg xmlns=\"http://www.w3.org/2000/svg\" height=\"24px\" viewBox=\"0 -960 960 960\">\n",
              "    <path d=\"M120-120v-720h720v720H120Zm60-500h600v-160H180v160Zm220 220h160v-160H400v160Zm0 220h160v-160H400v160ZM180-400h160v-160H180v160Zm440 0h160v-160H620v160ZM180-180h160v-160H180v160Zm440 0h160v-160H620v160Z\"/>\n",
              "  </svg>\n",
              "    </button>\n",
              "\n",
              "  <style>\n",
              "    .colab-df-container {\n",
              "      display:flex;\n",
              "      gap: 12px;\n",
              "    }\n",
              "\n",
              "    .colab-df-convert {\n",
              "      background-color: #E8F0FE;\n",
              "      border: none;\n",
              "      border-radius: 50%;\n",
              "      cursor: pointer;\n",
              "      display: none;\n",
              "      fill: #1967D2;\n",
              "      height: 32px;\n",
              "      padding: 0 0 0 0;\n",
              "      width: 32px;\n",
              "    }\n",
              "\n",
              "    .colab-df-convert:hover {\n",
              "      background-color: #E2EBFA;\n",
              "      box-shadow: 0px 1px 2px rgba(60, 64, 67, 0.3), 0px 1px 3px 1px rgba(60, 64, 67, 0.15);\n",
              "      fill: #174EA6;\n",
              "    }\n",
              "\n",
              "    .colab-df-buttons div {\n",
              "      margin-bottom: 4px;\n",
              "    }\n",
              "\n",
              "    [theme=dark] .colab-df-convert {\n",
              "      background-color: #3B4455;\n",
              "      fill: #D2E3FC;\n",
              "    }\n",
              "\n",
              "    [theme=dark] .colab-df-convert:hover {\n",
              "      background-color: #434B5C;\n",
              "      box-shadow: 0px 1px 3px 1px rgba(0, 0, 0, 0.15);\n",
              "      filter: drop-shadow(0px 1px 2px rgba(0, 0, 0, 0.3));\n",
              "      fill: #FFFFFF;\n",
              "    }\n",
              "  </style>\n",
              "\n",
              "    <script>\n",
              "      const buttonEl =\n",
              "        document.querySelector('#df-e35c0bbd-9037-460e-bafa-2a10a531eca0 button.colab-df-convert');\n",
              "      buttonEl.style.display =\n",
              "        google.colab.kernel.accessAllowed ? 'block' : 'none';\n",
              "\n",
              "      async function convertToInteractive(key) {\n",
              "        const element = document.querySelector('#df-e35c0bbd-9037-460e-bafa-2a10a531eca0');\n",
              "        const dataTable =\n",
              "          await google.colab.kernel.invokeFunction('convertToInteractive',\n",
              "                                                    [key], {});\n",
              "        if (!dataTable) return;\n",
              "\n",
              "        const docLinkHtml = 'Like what you see? Visit the ' +\n",
              "          '<a target=\"_blank\" href=https://colab.research.google.com/notebooks/data_table.ipynb>data table notebook</a>'\n",
              "          + ' to learn more about interactive tables.';\n",
              "        element.innerHTML = '';\n",
              "        dataTable['output_type'] = 'display_data';\n",
              "        await google.colab.output.renderOutput(dataTable, element);\n",
              "        const docLink = document.createElement('div');\n",
              "        docLink.innerHTML = docLinkHtml;\n",
              "        element.appendChild(docLink);\n",
              "      }\n",
              "    </script>\n",
              "  </div>\n",
              "\n",
              "\n",
              "<div id=\"df-68d4a655-d72c-40ba-89ad-f9b6d7cddaef\">\n",
              "  <button class=\"colab-df-quickchart\" onclick=\"quickchart('df-68d4a655-d72c-40ba-89ad-f9b6d7cddaef')\"\n",
              "            title=\"Suggest charts\"\n",
              "            style=\"display:none;\">\n",
              "\n",
              "<svg xmlns=\"http://www.w3.org/2000/svg\" height=\"24px\"viewBox=\"0 0 24 24\"\n",
              "     width=\"24px\">\n",
              "    <g>\n",
              "        <path d=\"M19 3H5c-1.1 0-2 .9-2 2v14c0 1.1.9 2 2 2h14c1.1 0 2-.9 2-2V5c0-1.1-.9-2-2-2zM9 17H7v-7h2v7zm4 0h-2V7h2v10zm4 0h-2v-4h2v4z\"/>\n",
              "    </g>\n",
              "</svg>\n",
              "  </button>\n",
              "\n",
              "<style>\n",
              "  .colab-df-quickchart {\n",
              "      --bg-color: #E8F0FE;\n",
              "      --fill-color: #1967D2;\n",
              "      --hover-bg-color: #E2EBFA;\n",
              "      --hover-fill-color: #174EA6;\n",
              "      --disabled-fill-color: #AAA;\n",
              "      --disabled-bg-color: #DDD;\n",
              "  }\n",
              "\n",
              "  [theme=dark] .colab-df-quickchart {\n",
              "      --bg-color: #3B4455;\n",
              "      --fill-color: #D2E3FC;\n",
              "      --hover-bg-color: #434B5C;\n",
              "      --hover-fill-color: #FFFFFF;\n",
              "      --disabled-bg-color: #3B4455;\n",
              "      --disabled-fill-color: #666;\n",
              "  }\n",
              "\n",
              "  .colab-df-quickchart {\n",
              "    background-color: var(--bg-color);\n",
              "    border: none;\n",
              "    border-radius: 50%;\n",
              "    cursor: pointer;\n",
              "    display: none;\n",
              "    fill: var(--fill-color);\n",
              "    height: 32px;\n",
              "    padding: 0;\n",
              "    width: 32px;\n",
              "  }\n",
              "\n",
              "  .colab-df-quickchart:hover {\n",
              "    background-color: var(--hover-bg-color);\n",
              "    box-shadow: 0 1px 2px rgba(60, 64, 67, 0.3), 0 1px 3px 1px rgba(60, 64, 67, 0.15);\n",
              "    fill: var(--button-hover-fill-color);\n",
              "  }\n",
              "\n",
              "  .colab-df-quickchart-complete:disabled,\n",
              "  .colab-df-quickchart-complete:disabled:hover {\n",
              "    background-color: var(--disabled-bg-color);\n",
              "    fill: var(--disabled-fill-color);\n",
              "    box-shadow: none;\n",
              "  }\n",
              "\n",
              "  .colab-df-spinner {\n",
              "    border: 2px solid var(--fill-color);\n",
              "    border-color: transparent;\n",
              "    border-bottom-color: var(--fill-color);\n",
              "    animation:\n",
              "      spin 1s steps(1) infinite;\n",
              "  }\n",
              "\n",
              "  @keyframes spin {\n",
              "    0% {\n",
              "      border-color: transparent;\n",
              "      border-bottom-color: var(--fill-color);\n",
              "      border-left-color: var(--fill-color);\n",
              "    }\n",
              "    20% {\n",
              "      border-color: transparent;\n",
              "      border-left-color: var(--fill-color);\n",
              "      border-top-color: var(--fill-color);\n",
              "    }\n",
              "    30% {\n",
              "      border-color: transparent;\n",
              "      border-left-color: var(--fill-color);\n",
              "      border-top-color: var(--fill-color);\n",
              "      border-right-color: var(--fill-color);\n",
              "    }\n",
              "    40% {\n",
              "      border-color: transparent;\n",
              "      border-right-color: var(--fill-color);\n",
              "      border-top-color: var(--fill-color);\n",
              "    }\n",
              "    60% {\n",
              "      border-color: transparent;\n",
              "      border-right-color: var(--fill-color);\n",
              "    }\n",
              "    80% {\n",
              "      border-color: transparent;\n",
              "      border-right-color: var(--fill-color);\n",
              "      border-bottom-color: var(--fill-color);\n",
              "    }\n",
              "    90% {\n",
              "      border-color: transparent;\n",
              "      border-bottom-color: var(--fill-color);\n",
              "    }\n",
              "  }\n",
              "</style>\n",
              "\n",
              "  <script>\n",
              "    async function quickchart(key) {\n",
              "      const quickchartButtonEl =\n",
              "        document.querySelector('#' + key + ' button');\n",
              "      quickchartButtonEl.disabled = true;  // To prevent multiple clicks.\n",
              "      quickchartButtonEl.classList.add('colab-df-spinner');\n",
              "      try {\n",
              "        const charts = await google.colab.kernel.invokeFunction(\n",
              "            'suggestCharts', [key], {});\n",
              "      } catch (error) {\n",
              "        console.error('Error during call to suggestCharts:', error);\n",
              "      }\n",
              "      quickchartButtonEl.classList.remove('colab-df-spinner');\n",
              "      quickchartButtonEl.classList.add('colab-df-quickchart-complete');\n",
              "    }\n",
              "    (() => {\n",
              "      let quickchartButtonEl =\n",
              "        document.querySelector('#df-68d4a655-d72c-40ba-89ad-f9b6d7cddaef button');\n",
              "      quickchartButtonEl.style.display =\n",
              "        google.colab.kernel.accessAllowed ? 'block' : 'none';\n",
              "    })();\n",
              "  </script>\n",
              "</div>\n",
              "\n",
              "  <div id=\"id_ff54f55c-9f68-455b-a883-521afda01879\">\n",
              "    <style>\n",
              "      .colab-df-generate {\n",
              "        background-color: #E8F0FE;\n",
              "        border: none;\n",
              "        border-radius: 50%;\n",
              "        cursor: pointer;\n",
              "        display: none;\n",
              "        fill: #1967D2;\n",
              "        height: 32px;\n",
              "        padding: 0 0 0 0;\n",
              "        width: 32px;\n",
              "      }\n",
              "\n",
              "      .colab-df-generate:hover {\n",
              "        background-color: #E2EBFA;\n",
              "        box-shadow: 0px 1px 2px rgba(60, 64, 67, 0.3), 0px 1px 3px 1px rgba(60, 64, 67, 0.15);\n",
              "        fill: #174EA6;\n",
              "      }\n",
              "\n",
              "      [theme=dark] .colab-df-generate {\n",
              "        background-color: #3B4455;\n",
              "        fill: #D2E3FC;\n",
              "      }\n",
              "\n",
              "      [theme=dark] .colab-df-generate:hover {\n",
              "        background-color: #434B5C;\n",
              "        box-shadow: 0px 1px 3px 1px rgba(0, 0, 0, 0.15);\n",
              "        filter: drop-shadow(0px 1px 2px rgba(0, 0, 0, 0.3));\n",
              "        fill: #FFFFFF;\n",
              "      }\n",
              "    </style>\n",
              "    <button class=\"colab-df-generate\" onclick=\"generateWithVariable('df_preprocessed')\"\n",
              "            title=\"Generate code using this dataframe.\"\n",
              "            style=\"display:none;\">\n",
              "\n",
              "  <svg xmlns=\"http://www.w3.org/2000/svg\" height=\"24px\"viewBox=\"0 0 24 24\"\n",
              "       width=\"24px\">\n",
              "    <path d=\"M7,19H8.4L18.45,9,17,7.55,7,17.6ZM5,21V16.75L18.45,3.32a2,2,0,0,1,2.83,0l1.4,1.43a1.91,1.91,0,0,1,.58,1.4,1.91,1.91,0,0,1-.58,1.4L9.25,21ZM18.45,9,17,7.55Zm-12,3A5.31,5.31,0,0,0,4.9,8.1,5.31,5.31,0,0,0,1,6.5,5.31,5.31,0,0,0,4.9,4.9,5.31,5.31,0,0,0,6.5,1,5.31,5.31,0,0,0,8.1,4.9,5.31,5.31,0,0,0,12,6.5,5.46,5.46,0,0,0,6.5,12Z\"/>\n",
              "  </svg>\n",
              "    </button>\n",
              "    <script>\n",
              "      (() => {\n",
              "      const buttonEl =\n",
              "        document.querySelector('#id_ff54f55c-9f68-455b-a883-521afda01879 button.colab-df-generate');\n",
              "      buttonEl.style.display =\n",
              "        google.colab.kernel.accessAllowed ? 'block' : 'none';\n",
              "\n",
              "      buttonEl.onclick = () => {\n",
              "        google.colab.notebook.generateWithVariable('df_preprocessed');\n",
              "      }\n",
              "      })();\n",
              "    </script>\n",
              "  </div>\n",
              "\n",
              "    </div>\n",
              "  </div>\n"
            ],
            "text/plain": [
              "                                                                                                                                                                                                                                               text  \\\n",
              "0                                                                                                                                                                قليلين ادب ومنافقين اختهم او قريبتهم تتعاكس تقولي عليهم نشاط حقوق المراه رده فعلهم   \n",
              "1                                                                                                                                                                                              الليبيين متقلبين بالنسبه ليا انا ميليشياوي زمان وتوه   \n",
              "2                                                                                         تانيه شاب ليبي بيرتاح لبنت مختلفه ويلاحظ انها البنات وبيحس كانه يعرفها زمان بعدين يتزوج وحده منهن وممكن ولاثلاثه وتنقلب الرومانسيه لعياط وشياط وتهزيب اند   \n",
              "3       رانيا عقليتك متخلفه اولا الانسان يلي يحتاج اهل يخاف منهم علشان يكون محترم انسان قليل الادب اصلا ثانيا شن ذنب يلي معندهش اب ام خوت خوات يعني اليتيمه متستحقش تتزوج وثالثا ليش البنت لازم ادير الف حساب للراجل متستحقش يندارلها الف حساب عبده   \n",
              "4                                                                                                                                                      شكلك متعقده علشان الراجل تحبيه ازوج بنت يتيمه بنت معندهش خوت هدي اعصابك وفكينا التخلف امتاعك   \n",
              "...                                                                                                                                                                                                                                             ...   \n",
              "147720                                                                                               الناس دي بتنفخ قربه مقدوده بالدارجي كده البلد دي الكيزان ديل راحو مافي حياه شريفه البلد دي لان سبب الفساد والمصاءب الموجوده التطلع لسودان افضل   \n",
              "147721                                                                                                                                                                                                انت عايش وين بره السودان شنو ماشايف البحصل دا   \n",
              "147722                                                                                                                                                                                               مااحرم نفسي ميسي حريف ولعاب برضو مدريدي وافتخر   \n",
              "147723                                                                                                                               ياخي ديل ماخلو للشيطان وابليس شي يروحو وين ربنا ونحن وراك وراك ياكوز ياعفن الايام معدوده خلاص تعرف علي الكيزان   \n",
              "147724                                                                                                                                                                                                             النبي فيك صدمتني ياخي عاوز تعويض   \n",
              "\n",
              "       dialect  \n",
              "0           LY  \n",
              "1           LY  \n",
              "2           LY  \n",
              "3           LY  \n",
              "4           LY  \n",
              "...        ...  \n",
              "147720      SD  \n",
              "147721      SD  \n",
              "147722      SD  \n",
              "147723      SD  \n",
              "147724      SD  \n",
              "\n",
              "[147725 rows x 2 columns]"
            ]
          },
          "execution_count": 35,
          "metadata": {},
          "output_type": "execute_result"
        }
      ],
      "source": [
        "df_preprocessed = df.copy()\n",
        "df_preprocessed['text']=df_preprocessed['text'].apply(preprocess)\n",
        "df_preprocessed= df_preprocessed.drop('id',axis=1)\n",
        "df_preprocessed"
      ]
    },
    {
      "cell_type": "markdown",
      "metadata": {
        "id": "wT2Tq95RXqUC"
      },
      "source": [
        "## encoding the label features\n"
      ]
    },
    {
      "cell_type": "code",
      "execution_count": 36,
      "metadata": {
        "colab": {
          "base_uri": "https://localhost:8080/"
        },
        "id": "Yc8wB9zXZV9j",
        "outputId": "807172c4-ac2d-477f-fcfb-e182dbc9353a"
      },
      "outputs": [
        {
          "data": {
            "text/plain": [
              "array([2, 2, 2, ..., 4, 4, 4])"
            ]
          },
          "execution_count": 36,
          "metadata": {},
          "output_type": "execute_result"
        }
      ],
      "source": [
        "label_encoder = LabelEncoder()\n",
        "labels_encoded =  label_encoder.fit_transform(df_preprocessed['dialect'].to_numpy())\n",
        "labels_encoded"
      ]
    },
    {
      "cell_type": "code",
      "execution_count": 37,
      "metadata": {
        "colab": {
          "base_uri": "https://localhost:8080/"
        },
        "id": "9cl17OKnau5K",
        "outputId": "fa15dee1-63cc-4437-8a1e-c1b8022732fd"
      },
      "outputs": [
        {
          "data": {
            "text/plain": [
              "array(['EG', 'LB', 'LY', 'MA', 'SD'], dtype=object)"
            ]
          },
          "execution_count": 37,
          "metadata": {},
          "output_type": "execute_result"
        }
      ],
      "source": [
        "#getting  class anames from label encoder instance\n",
        "class_names = label_encoder.classes_\n",
        "class_names"
      ]
    },
    {
      "cell_type": "code",
      "execution_count": 38,
      "metadata": {
        "colab": {
          "base_uri": "https://localhost:8080/"
        },
        "id": "Bujdz6HXaVBS",
        "outputId": "490a18b0-bdd1-4b1f-9362-1b7799fd4646"
      },
      "outputs": [
        {
          "data": {
            "text/plain": [
              "{0: 'EG', 1: 'LB', 2: 'LY', 3: 'MA', 4: 'SD'}"
            ]
          },
          "execution_count": 38,
          "metadata": {},
          "output_type": "execute_result"
        }
      ],
      "source": [
        "id2label = dict(enumerate(class_names))\n",
        "id2label"
      ]
    },
    {
      "cell_type": "markdown",
      "metadata": {
        "id": "13wFVT2FbCq0"
      },
      "source": [
        "## splitting the data into train and val splits"
      ]
    },
    {
      "cell_type": "code",
      "execution_count": 39,
      "metadata": {
        "colab": {
          "base_uri": "https://localhost:8080/"
        },
        "id": "1C1V3fcSbGqR",
        "outputId": "4ea6478b-6953-4ce8-8707-cf005bd12469"
      },
      "outputs": [
        {
          "data": {
            "text/plain": [
              "((118180,), (29545,), (118180,), (29545,))"
            ]
          },
          "execution_count": 39,
          "metadata": {},
          "output_type": "execute_result"
        }
      ],
      "source": [
        "X = df_preprocessed['text']\n",
        "y = labels_encoded\n",
        "\n",
        "X_train, X_val, y_train, y_val = train_test_split(X, y, test_size=0.2, shuffle= True, random_state=42)\n",
        "X_train.shape, X_val.shape, y_train.shape, y_val.shape"
      ]
    },
    {
      "cell_type": "markdown",
      "metadata": {
        "id": "AUpGWX55QFOC"
      },
      "source": [
        "# Modeling expriments"
      ]
    },
    {
      "cell_type": "markdown",
      "metadata": {
        "id": "1ojfvFtuTJTU"
      },
      "source": [
        "## Modeliing Checkpoint"
      ]
    },
    {
      "cell_type": "code",
      "execution_count": 53,
      "metadata": {
        "id": "-Pz5_MwWTMsT"
      },
      "outputs": [],
      "source": [
        "# function to implement a model checkpoint with a specific file name\n",
        "def create_model_checkpoint(model_name, save_path='model_expriments'):\n",
        "  return tf.keras.callbacks.ModelCheckpoint(filepath= os.path.join(save_path,model_name),\n",
        "                                            monitor = 'val_loss',\n",
        "                                            verbose= 0,\n",
        "                                            save_best_only = True )"
      ]
    },
    {
      "cell_type": "markdown",
      "metadata": {
        "id": "oYJV7Rkhio0G"
      },
      "source": [
        "## Embedding Layer"
      ]
    },
    {
      "cell_type": "code",
      "execution_count": 40,
      "metadata": {
        "colab": {
          "base_uri": "https://localhost:8080/"
        },
        "id": "UcQWp2BbisOb",
        "outputId": "d0feb991-b206-4ba3-ed1c-bce03d5b7f97"
      },
      "outputs": [
        {
          "data": {
            "text/plain": [
              "11.685674394990691"
            ]
          },
          "execution_count": 40,
          "metadata": {},
          "output_type": "execute_result"
        }
      ],
      "source": [
        "# finding the average tweets lengths\n",
        "tweet_lens = [len(sentence.split()) for sentence in X_train]\n",
        "avg_tweet_len = np.mean(tweet_lens)\n",
        "avg_tweet_len"
      ]
    },
    {
      "cell_type": "code",
      "execution_count": 41,
      "metadata": {
        "colab": {
          "base_uri": "https://localhost:8080/",
          "height": 0
        },
        "id": "D84dbobwisGT",
        "outputId": "8821d63a-9c9e-4b8f-c55c-5325c2b68c9c"
      },
      "outputs": [
        {
          "data": {
            "image/png": "[encoded data removed]",
            "text/plain": [
              "<Figure size 640x480 with 1 Axes>"
            ]
          },
          "metadata": {},
          "output_type": "display_data"
        }
      ],
      "source": [
        "# distribution on len [tokens]\n",
        "plt.hist(tweet_lens, bins=20);"
      ]
    },
    {
      "cell_type": "code",
      "execution_count": 42,
      "metadata": {
        "colab": {
          "base_uri": "https://localhost:8080/"
        },
        "id": "SK_JMi1Mir-N",
        "outputId": "773e9231-8d0c-44b9-8d97-3d57efcdafcc"
      },
      "outputs": [
        {
          "data": {
            "text/plain": [
              "32"
            ]
          },
          "execution_count": 42,
          "metadata": {},
          "output_type": "execute_result"
        }
      ],
      "source": [
        "# finding the length that covers 95% of the trainig data\n",
        "output_seq_len = int(np.percentile(tweet_lens, 95))\n",
        "output_seq_len"
      ]
    },
    {
      "cell_type": "code",
      "execution_count": 43,
      "metadata": {
        "id": "M8FU5P9hoI9H"
      },
      "outputs": [],
      "source": [
        "max_length = 32\n",
        "max_vocab_length = 120000\n",
        "text_vectorizer = TextVectorization(max_tokens=max_vocab_length, output_mode=\"int\", output_sequence_length=max_length)"
      ]
    },
    {
      "cell_type": "code",
      "execution_count": 44,
      "metadata": {
        "id": "WYzOX0jpoIzv"
      },
      "outputs": [],
      "source": [
        "# Fit the text vectorizer to the training text\n",
        "text_vectorizer.adapt(X_train)"
      ]
    },
    {
      "cell_type": "code",
      "execution_count": 45,
      "metadata": {
        "colab": {
          "base_uri": "https://localhost:8080/"
        },
        "id": "6RIjmJgroImx",
        "outputId": "91f5ff14-530a-498f-a3b7-0715ab6f0cd6"
      },
      "outputs": [
        {
          "name": "stdout",
          "output_type": "stream",
          "text": [
            "Number of words in vocab: 120000\n",
            "Top 5 most common words: ['', '[UNK]', 'اللي', 'مش', 'انا']\n",
            "Bottom 5 least common words: ['ماشوفنهاش', 'ماشوفتهوش', 'ماشوفتهاش', 'ماشوفته', 'ماشوفتك']\n"
          ]
        }
      ],
      "source": [
        "# Getting insigths from the vectorizer\n",
        "words_in_vocab = text_vectorizer.get_vocabulary()\n",
        "top_5_words = words_in_vocab[:5]\n",
        "bottom_5_words = words_in_vocab[-5:]\n",
        "print(f\"Number of words in vocab: {len(words_in_vocab)}\")\n",
        "print(f\"Top 5 most common words: {top_5_words}\")\n",
        "print(f\"Bottom 5 least common words: {bottom_5_words}\")"
      ]
    },
    {
      "cell_type": "code",
      "execution_count": 46,
      "metadata": {
        "colab": {
          "base_uri": "https://localhost:8080/"
        },
        "id": "HojlDU1oryDh",
        "outputId": "323a1b28-1911-417b-e969-58ee203224f1"
      },
      "outputs": [
        {
          "data": {
            "text/plain": [
              "<keras.src.layers.core.embedding.Embedding at 0x7ff025c51840>"
            ]
          },
          "execution_count": 46,
          "metadata": {},
          "output_type": "execute_result"
        }
      ],
      "source": [
        "embedding = layers.Embedding(input_dim = max_vocab_length , output_dim = 128, input_length = max_length)\n",
        "embedding"
      ]
    },
    {
      "cell_type": "code",
      "execution_count": 47,
      "metadata": {
        "colab": {
          "base_uri": "https://localhost:8080/"
        },
        "id": "hNB5QJbhsgJk",
        "outputId": "461078d4-90ed-42a8-fcfa-a669f1a6fab0"
      },
      "outputs": [
        {
          "name": "stdout",
          "output_type": "stream",
          "text": [
            "Tweet before embeding: متقولش حاجه فصلتني ضحك        \n",
            "\n",
            " Tweet after embedding:\n"
          ]
        },
        {
          "data": {
            "text/plain": [
              "<tf.Tensor: shape=(32, 128), dtype=float32, numpy=\n",
              "array([[-0.02036203,  0.00525369, -0.02690827, ...,  0.03534878,\n",
              "        -0.02653505,  0.04229068],\n",
              "       [-0.00940382, -0.03401755,  0.00511881, ...,  0.02252838,\n",
              "        -0.02749261,  0.01575241],\n",
              "       [ 0.04122046,  0.04865954, -0.02438505, ..., -0.01564407,\n",
              "         0.0156245 , -0.0375474 ],\n",
              "       ...,\n",
              "       [-0.03606988,  0.03652189,  0.03572948, ...,  0.02999398,\n",
              "         0.00606853,  0.03292895],\n",
              "       [-0.03606988,  0.03652189,  0.03572948, ...,  0.02999398,\n",
              "         0.00606853,  0.03292895],\n",
              "       [-0.03606988,  0.03652189,  0.03572948, ...,  0.02999398,\n",
              "         0.00606853,  0.03292895]], dtype=float32)>"
            ]
          },
          "execution_count": 47,
          "metadata": {},
          "output_type": "execute_result"
        }
      ],
      "source": [
        "random_tweet = random.choice(X_train)\n",
        "print(f'Tweet before embeding: {random_tweet}\\\n",
        "        \\n\\n Tweet after embedding:')\n",
        "\n",
        "embedded_tweet = embedding(text_vectorizer(random_tweet))\n",
        "embedded_tweet"
      ]
    },
    {
      "cell_type": "markdown",
      "metadata": {
        "id": "iPNGmw8uW7YK"
      },
      "source": [
        "## Model 1 : baseline TF-IDF Multinomial Naive Bayes classifer"
      ]
    },
    {
      "cell_type": "code",
      "execution_count": 48,
      "metadata": {
        "colab": {
          "base_uri": "https://localhost:8080/",
          "height": 0
        },
        "id": "VqYK2nhaXN_b",
        "outputId": "92c0d3c4-50e4-4a36-de12-c332baa9711e"
      },
      "outputs": [
        {
          "data": {
            "text/html": [
              "<style>#sk-container-id-1 {color: black;background-color: white;}#sk-container-id-1 pre{padding: 0;}#sk-container-id-1 div.sk-toggleable {background-color: white;}#sk-container-id-1 label.sk-toggleable__label {cursor: pointer;display: block;width: 100%;margin-bottom: 0;padding: 0.3em;box-sizing: border-box;text-align: center;}#sk-container-id-1 label.sk-toggleable__label-arrow:before {content: \"▸\";float: left;margin-right: 0.25em;color: #696969;}#sk-container-id-1 label.sk-toggleable__label-arrow:hover:before {color: black;}#sk-container-id-1 div.sk-estimator:hover label.sk-toggleable__label-arrow:before {color: black;}#sk-container-id-1 div.sk-toggleable__content {max-height: 0;max-width: 0;overflow: hidden;text-align: left;background-color: #f0f8ff;}#sk-container-id-1 div.sk-toggleable__content pre {margin: 0.2em;color: black;border-radius: 0.25em;background-color: #f0f8ff;}#sk-container-id-1 input.sk-toggleable__control:checked~div.sk-toggleable__content {max-height: 200px;max-width: 100%;overflow: auto;}#sk-container-id-1 input.sk-toggleable__control:checked~label.sk-toggleable__label-arrow:before {content: \"▾\";}#sk-container-id-1 div.sk-estimator input.sk-toggleable__control:checked~label.sk-toggleable__label {background-color: #d4ebff;}#sk-container-id-1 div.sk-label input.sk-toggleable__control:checked~label.sk-toggleable__label {background-color: #d4ebff;}#sk-container-id-1 input.sk-hidden--visually {border: 0;clip: rect(1px 1px 1px 1px);clip: rect(1px, 1px, 1px, 1px);height: 1px;margin: -1px;overflow: hidden;padding: 0;position: absolute;width: 1px;}#sk-container-id-1 div.sk-estimator {font-family: monospace;background-color: #f0f8ff;border: 1px dotted black;border-radius: 0.25em;box-sizing: border-box;margin-bottom: 0.5em;}#sk-container-id-1 div.sk-estimator:hover {background-color: #d4ebff;}#sk-container-id-1 div.sk-parallel-item::after {content: \"\";width: 100%;border-bottom: 1px solid gray;flex-grow: 1;}#sk-container-id-1 div.sk-label:hover label.sk-toggleable__label {background-color: #d4ebff;}#sk-container-id-1 div.sk-serial::before {content: \"\";position: absolute;border-left: 1px solid gray;box-sizing: border-box;top: 0;bottom: 0;left: 50%;z-index: 0;}#sk-container-id-1 div.sk-serial {display: flex;flex-direction: column;align-items: center;background-color: white;padding-right: 0.2em;padding-left: 0.2em;position: relative;}#sk-container-id-1 div.sk-item {position: relative;z-index: 1;}#sk-container-id-1 div.sk-parallel {display: flex;align-items: stretch;justify-content: center;background-color: white;position: relative;}#sk-container-id-1 div.sk-item::before, #sk-container-id-1 div.sk-parallel-item::before {content: \"\";position: absolute;border-left: 1px solid gray;box-sizing: border-box;top: 0;bottom: 0;left: 50%;z-index: -1;}#sk-container-id-1 div.sk-parallel-item {display: flex;flex-direction: column;z-index: 1;position: relative;background-color: white;}#sk-container-id-1 div.sk-parallel-item:first-child::after {align-self: flex-end;width: 50%;}#sk-container-id-1 div.sk-parallel-item:last-child::after {align-self: flex-start;width: 50%;}#sk-container-id-1 div.sk-parallel-item:only-child::after {width: 0;}#sk-container-id-1 div.sk-dashed-wrapped {border: 1px dashed gray;margin: 0 0.4em 0.5em 0.4em;box-sizing: border-box;padding-bottom: 0.4em;background-color: white;}#sk-container-id-1 div.sk-label label {font-family: monospace;font-weight: bold;display: inline-block;line-height: 1.2em;}#sk-container-id-1 div.sk-label-container {text-align: center;}#sk-container-id-1 div.sk-container {/* jupyter's `normalize.less` sets `[hidden] { display: none; }` but bootstrap.min.css set `[hidden] { display: none !important; }` so we also need the `!important` here to be able to override the default hidden behavior on the sphinx rendered scikit-learn.org. See: https://github.com/scikit-learn/scikit-learn/issues/21755 */display: inline-block !important;position: relative;}#sk-container-id-1 div.sk-text-repr-fallback {display: none;}</style><div id=\"sk-container-id-1\" class=\"sk-top-container\"><div class=\"sk-text-repr-fallback\"><pre>Pipeline(steps=[(&#x27;tf-idf&#x27;, TfidfVectorizer()), (&#x27;clf&#x27;, MultinomialNB())])</pre><b>In a Jupyter environment, please rerun this cell to show the HTML representation or trust the notebook. <br />On GitHub, the HTML representation is unable to render, please try loading this page with nbviewer.org.</b></div><div class=\"sk-container\" hidden><div class=\"sk-item sk-dashed-wrapped\"><div class=\"sk-label-container\"><div class=\"sk-label sk-toggleable\"><input class=\"sk-toggleable__control sk-hidden--visually\" id=\"sk-estimator-id-1\" type=\"checkbox\" ><label for=\"sk-estimator-id-1\" class=\"sk-toggleable__label sk-toggleable__label-arrow\">Pipeline</label><div class=\"sk-toggleable__content\"><pre>Pipeline(steps=[(&#x27;tf-idf&#x27;, TfidfVectorizer()), (&#x27;clf&#x27;, MultinomialNB())])</pre></div></div></div><div class=\"sk-serial\"><div class=\"sk-item\"><div class=\"sk-estimator sk-toggleable\"><input class=\"sk-toggleable__control sk-hidden--visually\" id=\"sk-estimator-id-2\" type=\"checkbox\" ><label for=\"sk-estimator-id-2\" class=\"sk-toggleable__label sk-toggleable__label-arrow\">TfidfVectorizer</label><div class=\"sk-toggleable__content\"><pre>TfidfVectorizer()</pre></div></div></div><div class=\"sk-item\"><div class=\"sk-estimator sk-toggleable\"><input class=\"sk-toggleable__control sk-hidden--visually\" id=\"sk-estimator-id-3\" type=\"checkbox\" ><label for=\"sk-estimator-id-3\" class=\"sk-toggleable__label sk-toggleable__label-arrow\">MultinomialNB</label><div class=\"sk-toggleable__content\"><pre>MultinomialNB()</pre></div></div></div></div></div></div></div>"
            ],
            "text/plain": [
              "Pipeline(steps=[('tf-idf', TfidfVectorizer()), ('clf', MultinomialNB())])"
            ]
          },
          "execution_count": 48,
          "metadata": {},
          "output_type": "execute_result"
        }
      ],
      "source": [
        "#pipeline\n",
        "model_0 = Pipeline(\n",
        "    [(\"tf-idf\",TfidfVectorizer()),\n",
        "    (\"clf\",MultinomialNB())]\n",
        ")\n",
        "\n",
        "# fit pipeline to training data\n",
        "model_0.fit(X= X_train,\n",
        "            y= y_train)\n"
      ]
    },
    {
      "cell_type": "code",
      "execution_count": 49,
      "metadata": {
        "colab": {
          "base_uri": "https://localhost:8080/"
        },
        "id": "G2Jq5mG7dAxP",
        "outputId": "a89e9cdd-0114-416f-cf04-bfe034723cf5"
      },
      "outputs": [
        {
          "data": {
            "text/plain": [
              "0.7227957353190049"
            ]
          },
          "execution_count": 49,
          "metadata": {},
          "output_type": "execute_result"
        }
      ],
      "source": [
        "# Evaluating baseline on validation data\n",
        "model_0.score(X= X_val,\n",
        "            y= y_val)"
      ]
    },
    {
      "cell_type": "code",
      "execution_count": 50,
      "metadata": {
        "colab": {
          "base_uri": "https://localhost:8080/"
        },
        "id": "Z6TSsB42dLYK",
        "outputId": "0687a697-46a9-464a-9095-ba2cd8d1634c"
      },
      "outputs": [
        {
          "data": {
            "text/plain": [
              "{'accuracy': 72.27957353190048,\n",
              " 'precision': 0.799596153966949,\n",
              " 'recall': 0.7227957353190049,\n",
              " 'f1': 0.6917543858114114}"
            ]
          },
          "execution_count": 50,
          "metadata": {},
          "output_type": "execute_result"
        }
      ],
      "source": [
        "# making predictions\n",
        "baseline_preds = model_0.predict(X_val)\n",
        "\n",
        "# calculating baseline results\n",
        "baseline_results = calculate_results(y_true= y_val, y_pred= baseline_preds)\n",
        "baseline_results"
      ]
    },
    {
      "cell_type": "markdown",
      "metadata": {
        "id": "M9mPo102dxuA"
      },
      "source": [
        "## Model 2 : LSTM"
      ]
    },
    {
      "cell_type": "code",
      "execution_count": 51,
      "metadata": {
        "id": "YN7-B5l32_cE"
      },
      "outputs": [],
      "source": [
        "# since the dataset is imaplanced we utilize the classweigths so the model not baiswed towards the heigest class\n",
        "class_weights = compute_sample_weight(class_weight='balanced', y=y_train)\n",
        "class_weights = dict(enumerate(np.squeeze(class_weights)))"
      ]
    },
    {
      "cell_type": "code",
      "execution_count": 52,
      "metadata": {
        "colab": {
          "base_uri": "https://localhost:8080/"
        },
        "id": "iYWs65bN4YpP",
        "outputId": "ddf55b5c-8827-48c7-e256-22a0ca00de81"
      },
      "outputs": [
        {
          "data": {
            "text/plain": [
              "array([[1., 0., 0., 0., 0.],\n",
              "       [1., 0., 0., 0., 0.],\n",
              "       [1., 0., 0., 0., 0.],\n",
              "       ...,\n",
              "       [0., 1., 0., 0., 0.],\n",
              "       [0., 0., 0., 0., 1.],\n",
              "       [0., 1., 0., 0., 0.]])"
            ]
          },
          "execution_count": 52,
          "metadata": {},
          "output_type": "execute_result"
        }
      ],
      "source": [
        "# one hot encode labels\n",
        "one_hot_encoder = OneHotEncoder(sparse_output=False)\n",
        "y_train_encoded = one_hot_encoder.fit_transform(y_train.reshape(-1, 1))\n",
        "y_val_encoded = one_hot_encoder.transform(y_val.reshape(-1, 1))\n",
        "\n",
        "y_train_encoded"
      ]
    },
    {
      "cell_type": "code",
      "execution_count": 54,
      "metadata": {
        "colab": {
          "base_uri": "https://localhost:8080/"
        },
        "id": "wE3vb9_gfOvw",
        "outputId": "1f614baf-f00b-4b5d-ef35-9033d235d19e"
      },
      "outputs": [
        {
          "name": "stdout",
          "output_type": "stream",
          "text": [
            "Epoch 1/50\n",
            "924/924 [==============================] - 60s 58ms/step - loss: 0.4321 - categorical_accuracy: 0.6824 - val_loss: 0.5772 - val_categorical_accuracy: 0.7990\n",
            "Epoch 2/50\n",
            "924/924 [==============================] - 21s 23ms/step - loss: 0.1954 - categorical_accuracy: 0.8746 - val_loss: 0.5477 - val_categorical_accuracy: 0.8130\n",
            "Epoch 3/50\n",
            "924/924 [==============================] - 15s 16ms/step - loss: 0.1138 - categorical_accuracy: 0.9300 - val_loss: 0.5923 - val_categorical_accuracy: 0.8110\n",
            "Epoch 4/50\n",
            "924/924 [==============================] - 13s 14ms/step - loss: 0.0776 - categorical_accuracy: 0.9531 - val_loss: 0.7355 - val_categorical_accuracy: 0.8048\n",
            "Epoch 5/50\n",
            "924/924 [==============================] - 14s 15ms/step - loss: 0.0576 - categorical_accuracy: 0.9652 - val_loss: 0.7650 - val_categorical_accuracy: 0.8005\n",
            "Epoch 5: early stopping\n"
          ]
        }
      ],
      "source": [
        "tf.random.set_seed(42)\n",
        "\n",
        "inputs = layers.Input(shape=(1,), dtype= \"string\")\n",
        "x = text_vectorizer(inputs)\n",
        "x = embedding(x)\n",
        "x = layers.LSTM(64)(x)\n",
        "x = layers.Dense(64, activation='relu')(x)\n",
        "outputs = layers.Dense(5, activation='softmax')(x)\n",
        "\n",
        "model_2 = tf.keras.Model(inputs, outputs, name='LSTM_model')\n",
        "\n",
        "#compile\n",
        "model_2.compile(loss='categorical_crossentropy', optimizer='adam', metrics = ['categorical_accuracy'])\n",
        "\n",
        "#fitting\n",
        "model_2_history = model_2.fit(X_train, y_train_encoded, shuffle=True,\n",
        "                    epochs=50,\n",
        "                    batch_size = 128,\n",
        "                    validation_data = (X_val, y_val_encoded),\n",
        "                    callbacks=[ create_model_checkpoint(model_name=model_2.name),\n",
        "                        EarlyStopping(monitor='val_categorical_accuracy', mode='max', patience=3, verbose=1)],\n",
        "                    class_weight=class_weights)"
      ]
    },
    {
      "cell_type": "code",
      "execution_count": 55,
      "metadata": {
        "colab": {
          "base_uri": "https://localhost:8080/"
        },
        "id": "1HQVm5KDXoLc",
        "outputId": "45f64ae0-9d2f-481f-f3e7-a741eb435116"
      },
      "outputs": [
        {
          "name": "stdout",
          "output_type": "stream",
          "text": [
            "Model: \"LSTM_model\"\n",
            "_________________________________________________________________\n",
            " Layer (type)                Output Shape              Param #   \n",
            "=================================================================\n",
            " input_1 (InputLayer)        [(None, 1)]               0         \n",
            "                                                                 \n",
            " text_vectorization (TextVe  (None, 32)                0         \n",
            " ctorization)                                                    \n",
            "                                                                 \n",
            " embedding (Embedding)       (None, 32, 128)           15360000  \n",
            "                                                                 \n",
            " lstm (LSTM)                 (None, 64)                49408     \n",
            "                                                                 \n",
            " dense (Dense)               (None, 64)                4160      \n",
            "                                                                 \n",
            " dense_1 (Dense)             (None, 5)                 325       \n",
            "                                                                 \n",
            "=================================================================\n",
            "Total params: 15413893 (58.80 MB)\n",
            "Trainable params: 15413893 (58.80 MB)\n",
            "Non-trainable params: 0 (0.00 Byte)\n",
            "_________________________________________________________________\n"
          ]
        }
      ],
      "source": [
        "model_2.summary()"
      ]
    },
    {
      "cell_type": "code",
      "execution_count": 57,
      "metadata": {
        "colab": {
          "base_uri": "https://localhost:8080/"
        },
        "id": "sEwX0McQ4Hx9",
        "outputId": "dc05406b-a2fe-46ae-d235-c7c1405bd760"
      },
      "outputs": [
        {
          "name": "stdout",
          "output_type": "stream",
          "text": [
            "924/924 [==============================] - 4s 3ms/step\n"
          ]
        },
        {
          "data": {
            "text/plain": [
              "{'accuracy': 81.2997123032662,\n",
              " 'precision': 0.8173147855455944,\n",
              " 'recall': 0.812997123032662,\n",
              " 'f1': 0.8123848101178595}"
            ]
          },
          "execution_count": 57,
          "metadata": {},
          "output_type": "execute_result"
        }
      ],
      "source": [
        "#loading the best model making predictions with the model\n",
        "model_2 = tf.keras.models.load_model('model_expriments/LSTM_model')\n",
        "model_2_pred_probs = model_2.predict(X_val)\n",
        "model_2_preds = tf.argmax(model_2_pred_probs,axis=1)\n",
        "\n",
        "model_2_results = calculate_results(y_true=y_val, y_pred= model_2_preds)\n",
        "model_2_results"
      ]
    },
    {
      "cell_type": "markdown",
      "metadata": {
        "id": "M_4tJQEe-HLz"
      },
      "source": [
        "## Model 3 : GRU"
      ]
    },
    {
      "cell_type": "code",
      "execution_count": 62,
      "metadata": {
        "colab": {
          "base_uri": "https://localhost:8080/"
        },
        "id": "zEE8pbCW-7yW",
        "outputId": "1706bef8-72ab-4612-eba0-9d5a3966a6dc"
      },
      "outputs": [
        {
          "name": "stdout",
          "output_type": "stream",
          "text": [
            "Epoch 1/50\n",
            "924/924 [==============================] - 106s 52ms/step - loss: 0.1508 - categorical_accuracy: 0.8905 - val_loss: 0.8708 - val_categorical_accuracy: 0.7904\n",
            "Epoch 2/50\n",
            "924/924 [==============================] - 17s 18ms/step - loss: 0.0277 - categorical_accuracy: 0.9826 - val_loss: 0.9734 - val_categorical_accuracy: 0.7913\n",
            "Epoch 3/50\n",
            "924/924 [==============================] - 14s 15ms/step - loss: 0.0202 - categorical_accuracy: 0.9873 - val_loss: 1.0873 - val_categorical_accuracy: 0.7843\n",
            "Epoch 4/50\n",
            "924/924 [==============================] - 13s 14ms/step - loss: 0.0171 - categorical_accuracy: 0.9887 - val_loss: 1.1776 - val_categorical_accuracy: 0.7764\n",
            "Epoch 5/50\n",
            "924/924 [==============================] - ETA: 0s - loss: 0.0147 - categorical_accuracy: 0.9901Restoring model weights from the end of the best epoch: 2.\n",
            "924/924 [==============================] - 13s 15ms/step - loss: 0.0147 - categorical_accuracy: 0.9901 - val_loss: 1.3414 - val_categorical_accuracy: 0.7772\n",
            "Epoch 5: early stopping\n"
          ]
        }
      ],
      "source": [
        "tf.random.set_seed(42)\n",
        "\n",
        "inputs = layers.Input(shape=(1,), dtype= \"string\")\n",
        "x = text_vectorizer(inputs)\n",
        "x = embedding(x)\n",
        "x = layers.GRU(64,)(x)\n",
        "x = layers.Dense(64, activation='relu')(x)\n",
        "outputs = layers.Dense(5, activation='softmax')(x)\n",
        "\n",
        "model_3 = tf.keras.Model(inputs, outputs, name='GRU_model')\n",
        "\n",
        "#compile\n",
        "model_3.compile(loss='categorical_crossentropy', optimizer='adam', metrics = ['categorical_accuracy'])\n",
        "\n",
        "#fitting\n",
        "model_3_history = model_3.fit(X_train, y_train_encoded, shuffle=True,\n",
        "                    epochs=50,\n",
        "                    batch_size = 128,\n",
        "                    validation_data = (X_val, y_val_encoded),\n",
        "                    callbacks=[create_model_checkpoint(model_name=model_3.name),\n",
        "                               EarlyStopping(monitor='val_categorical_accuracy', mode='max', patience=3, verbose=1 ,  restore_best_weights=True)],\n",
        "                    class_weight=class_weights)"
      ]
    },
    {
      "cell_type": "code",
      "execution_count": 64,
      "metadata": {
        "colab": {
          "base_uri": "https://localhost:8080/"
        },
        "id": "ZSp5M7NZ_8ij",
        "outputId": "5fd1d754-ce3d-42ea-defc-e474da81a4e3"
      },
      "outputs": [
        {
          "name": "stdout",
          "output_type": "stream",
          "text": [
            "924/924 [==============================] - 7s 6ms/step\n"
          ]
        },
        {
          "data": {
            "text/plain": [
              "{'accuracy': 79.03875444237603,\n",
              " 'precision': 0.792097018862215,\n",
              " 'recall': 0.7903875444237604,\n",
              " 'f1': 0.7908668336337737}"
            ]
          },
          "execution_count": 64,
          "metadata": {},
          "output_type": "execute_result"
        }
      ],
      "source": [
        "# making predictions with the model\n",
        "model_3 = tf.keras.models.load_model('model_expriments/GRU_model')\n",
        "model_3_pred_probs = model_3.predict(X_val)\n",
        "model_3_preds = tf.argmax(model_3_pred_probs,axis=1)\n",
        "\n",
        "model_3_results = calculate_results(y_true=y_val, y_pred= model_3_preds)\n",
        "model_3_results"
      ]
    },
    {
      "cell_type": "markdown",
      "metadata": {
        "id": "3nF13ACNCT8N"
      },
      "source": [
        "## Model 4 : Bidirectional RNN"
      ]
    },
    {
      "cell_type": "code",
      "execution_count": 65,
      "metadata": {
        "colab": {
          "base_uri": "https://localhost:8080/"
        },
        "id": "YI5zfXP5DjB_",
        "outputId": "afac502e-ff3d-40ab-d55b-2ac3ee5e2803"
      },
      "outputs": [
        {
          "name": "stdout",
          "output_type": "stream",
          "text": [
            "Epoch 1/10\n",
            "924/924 [==============================] - 64s 64ms/step - loss: 0.0840 - categorical_accuracy: 0.9453 - val_loss: 0.8925 - val_categorical_accuracy: 0.7902\n",
            "Epoch 2/10\n",
            "924/924 [==============================] - 19s 20ms/step - loss: 0.0265 - categorical_accuracy: 0.9838 - val_loss: 1.0095 - val_categorical_accuracy: 0.7894\n",
            "Epoch 3/10\n",
            "924/924 [==============================] - 17s 19ms/step - loss: 0.0197 - categorical_accuracy: 0.9873 - val_loss: 1.1201 - val_categorical_accuracy: 0.7837\n",
            "Epoch 4/10\n",
            "924/924 [==============================] - ETA: 0s - loss: 0.0160 - categorical_accuracy: 0.9893Restoring model weights from the end of the best epoch: 1.\n",
            "924/924 [==============================] - 15s 16ms/step - loss: 0.0160 - categorical_accuracy: 0.9893 - val_loss: 1.2611 - val_categorical_accuracy: 0.7788\n",
            "Epoch 4: early stopping\n"
          ]
        }
      ],
      "source": [
        "tf.random.set_seed(42)\n",
        "\n",
        "inputs = layers.Input(shape=(1,), dtype= \"string\")\n",
        "x = text_vectorizer(inputs)\n",
        "x = embedding(x)\n",
        "x = layers.Bidirectional(layers.LSTM(32))(x)\n",
        "x = layers.Dense(64, activation='relu')(x)\n",
        "outputs = layers.Dense(5, activation='softmax')(x)\n",
        "\n",
        "model_4 = tf.keras.Model(inputs, outputs, name='bidirectional_model')\n",
        "\n",
        "#compile\n",
        "model_4.compile(loss='categorical_crossentropy', optimizer='adam', metrics = ['categorical_accuracy'])\n",
        "\n",
        "#fitting\n",
        "model_4_history = model_4.fit(X_train, y_train_encoded, shuffle=True,\n",
        "                    epochs=10,\n",
        "                    batch_size = 128,\n",
        "                    validation_data = (X_val, y_val_encoded),\n",
        "                    callbacks=[create_model_checkpoint(model_name=model_4.name),\n",
        "                        EarlyStopping(monitor='val_categorical_accuracy', mode='max', patience=3, verbose=1 ,  restore_best_weights=True)],\n",
        "                    class_weight=class_weights)"
      ]
    },
    {
      "cell_type": "code",
      "execution_count": 67,
      "metadata": {
        "colab": {
          "base_uri": "https://localhost:8080/"
        },
        "id": "LXAxGwcBEKjQ",
        "outputId": "d85ab251-490b-4ff1-d634-37299503513f"
      },
      "outputs": [
        {
          "name": "stdout",
          "output_type": "stream",
          "text": [
            "924/924 [==============================] - 5s 4ms/step\n"
          ]
        },
        {
          "data": {
            "text/plain": [
              "{'accuracy': 79.01844643763751,\n",
              " 'precision': 0.791626849462289,\n",
              " 'recall': 0.790184464376375,\n",
              " 'f1': 0.7906990501847185}"
            ]
          },
          "execution_count": 67,
          "metadata": {},
          "output_type": "execute_result"
        }
      ],
      "source": [
        "# making predictions with the model\n",
        "model_4 = tf.keras.models.load_model('model_expriments/bidirectional_model')\n",
        "model_4_pred_probs = model_4.predict(X_val)\n",
        "model_4_preds = tf.argmax(model_4_pred_probs,axis=1)\n",
        "\n",
        "model_4_results = calculate_results(y_true=y_val, y_pred= model_4_preds)\n",
        "model_4_results"
      ]
    },
    {
      "cell_type": "markdown",
      "metadata": {
        "id": "Tyx9eMirE-SZ"
      },
      "source": [
        "## Model 5 : Hybrid Model  `token and charcter embeddings`"
      ]
    },
    {
      "cell_type": "markdown",
      "metadata": {
        "id": "CxzVMnCQerst"
      },
      "source": [
        "### Creating a char level vectorizer and embedding layers"
      ]
    },
    {
      "cell_type": "code",
      "execution_count": 68,
      "metadata": {
        "id": "_SijEB2lZqJI"
      },
      "outputs": [],
      "source": [
        "# creating a charcter level tokenizer\n",
        "def split_chars(text):\n",
        "   return \" \".join(list(text))"
      ]
    },
    {
      "cell_type": "code",
      "execution_count": 69,
      "metadata": {
        "colab": {
          "base_uri": "https://localhost:8080/",
          "height": 70
        },
        "id": "yZW7KeXRcIJd",
        "outputId": "c54eefe9-f994-41d2-e15e-8bf838a64751"
      },
      "outputs": [
        {
          "data": {
            "application/vnd.google.colaboratory.intrinsic+json": {
              "type": "string"
            },
            "text/plain": [
              "'ك ا ب ت ن   م د ح ت   ش ل ب ي   ا خ ط ا   خ ط ا   ر ه ي ب   ق ا ل   ا ن ه   م ش   ه ي ع ل ق   م ا ت ش   ا ل ق م ه   ا ل ا ه ل ي   و ا ل ز م ا ل ك   ل ا ن   ا ل ف ر ق   ا ل ف ر ي ق ي ن   ن ق ط ه   و د ه   ا ه ا ن ه   ل ل ز م ا ل ك   و ج م ا ه ي ر ه   ا ل ل ي   ز ع ل و ا   و د ه   ح ق ه م   ش ل ب ي   ي ع ت ذ ر   ف و ر ا   ل ج م ه و ر   ا ل ز م ا ل ك   ب س ب ب   ا ل خ ط ا   ا ل ر ه ي ب   ل ا ن   ا ل ف ر ق   ب ي ن ه م   ن ق ط ه   م ش'"
            ]
          },
          "execution_count": 69,
          "metadata": {},
          "output_type": "execute_result"
        }
      ],
      "source": [
        "#testing the function out on a random tweet\n",
        "split_chars(random.choice(X_train))"
      ]
    },
    {
      "cell_type": "code",
      "execution_count": 70,
      "metadata": {
        "id": "EuFFHLkEb9qN"
      },
      "outputs": [],
      "source": [
        "train_chars = [split_chars(tweet)  for tweet in X_train]\n",
        "val_chars = [split_chars(tweet)  for tweet in X_val]"
      ]
    },
    {
      "cell_type": "code",
      "execution_count": 71,
      "metadata": {
        "colab": {
          "base_uri": "https://localhost:8080/"
        },
        "id": "Ue_Pj_kbb9d1",
        "outputId": "2c5504f3-c772-4b6b-c8b3-78586432b7c3"
      },
      "outputs": [
        {
          "data": {
            "text/plain": [
              "64.49225757319343"
            ]
          },
          "execution_count": 71,
          "metadata": {},
          "output_type": "execute_result"
        }
      ],
      "source": [
        "# Finding out the average CHar length in the tweets\n",
        "char_lens =[len(tweet) for tweet in X_train]\n",
        "avg_tweet_len = np.mean(char_lens)\n",
        "avg_tweet_len"
      ]
    },
    {
      "cell_type": "code",
      "execution_count": 72,
      "metadata": {
        "colab": {
          "base_uri": "https://localhost:8080/",
          "height": 430
        },
        "id": "I0T1cBHCb9RT",
        "outputId": "4e9e5e02-304b-41db-cb69-c1aa8e364379"
      },
      "outputs": [
        {
          "data": {
            "image/png": "[encoded data removed]",
            "text/plain": [
              "<Figure size 640x480 with 1 Axes>"
            ]
          },
          "metadata": {},
          "output_type": "display_data"
        }
      ],
      "source": [
        "plt.hist(char_lens);"
      ]
    },
    {
      "cell_type": "code",
      "execution_count": 73,
      "metadata": {
        "colab": {
          "base_uri": "https://localhost:8080/"
        },
        "id": "VaU6aqXQdaH6",
        "outputId": "f2707418-6260-49d1-f048-6c5ecec3019b"
      },
      "outputs": [
        {
          "data": {
            "text/plain": [
              "180"
            ]
          },
          "execution_count": 73,
          "metadata": {},
          "output_type": "execute_result"
        }
      ],
      "source": [
        "# finding the len that covers 95% if the trainign dataset\n",
        "output_seq_char_len = int(np.percentile(char_lens,95))\n",
        "output_seq_char_len"
      ]
    },
    {
      "cell_type": "code",
      "execution_count": 74,
      "metadata": {
        "id": "LMOkCDpDZqA4"
      },
      "outputs": [],
      "source": [
        "arabic_alphabet = 'ابتثجحخدذرزسشصضطظعغفقكلمنهوي'\n",
        "NUM_CHAR_TOKENS = len(arabic_alphabet)+ 2 #one for space and the other for OOV token\"out of vocab [\"UNK\"]\""
      ]
    },
    {
      "cell_type": "code",
      "execution_count": 75,
      "metadata": {
        "id": "SdLVQ7lCZp6F"
      },
      "outputs": [],
      "source": [
        "char_vectorizer = TextVectorization(\n",
        "    max_tokens= NUM_CHAR_TOKENS, # vocabulary size\n",
        "    output_sequence_length= output_seq_char_len, #desired output length in the vectorized chars\n",
        "    name = \"char_vectorizer\"\n",
        ")"
      ]
    },
    {
      "cell_type": "code",
      "execution_count": 76,
      "metadata": {
        "id": "k7M5nHKtZp3J"
      },
      "outputs": [],
      "source": [
        "# Adapting to train chars\n",
        "char_vectorizer.adapt(train_chars)"
      ]
    },
    {
      "cell_type": "code",
      "execution_count": 77,
      "metadata": {
        "colab": {
          "base_uri": "https://localhost:8080/"
        },
        "id": "PsqoYW9AZps5",
        "outputId": "3f6ffeee-8a44-4eee-933e-970f3534fe9a"
      },
      "outputs": [
        {
          "name": "stdout",
          "output_type": "stream",
          "text": [
            "Number of Vocab chars : 30\n",
            "Most common chars in Vocab : ['', '[UNK]', 'ا', 'ل', 'ي']\n",
            "Least common chars in Vocab : ['ض', 'غ', 'ء', 'ذ', 'ث']\n"
          ]
        }
      ],
      "source": [
        "# investigating char vocab\n",
        "char_vocab = char_vectorizer.get_vocabulary()\n",
        "print(f\"Number of Vocab chars : {len(char_vocab)}\")\n",
        "print(f\"Most common chars in Vocab : {char_vocab[:5]}\")\n",
        "print(f\"Least common chars in Vocab : {char_vocab[-5:]}\")"
      ]
    },
    {
      "cell_type": "code",
      "execution_count": 78,
      "metadata": {
        "id": "CuCzQy-pepLI"
      },
      "outputs": [],
      "source": [
        "# Making embedding layer\n",
        "char_embed = layers.Embedding(\n",
        "    input_dim= len(char_vocab),\n",
        "    output_dim=30,\n",
        "    mask_zero= True,\n",
        "    name = \"char_embedding\"\n",
        ")"
      ]
    },
    {
      "cell_type": "markdown",
      "metadata": {
        "id": "hwCIx1oNeoz6"
      },
      "source": [
        "### Model building"
      ]
    },
    {
      "cell_type": "code",
      "execution_count": 79,
      "metadata": {
        "id": "tDyEkNB7GTje"
      },
      "outputs": [],
      "source": [
        "tf.random.set_seed(42)\n",
        "\n",
        "#1. Token inputs model\n",
        "token_inputs = layers.Input(shape=(1,), dtype ='string', name='token_input')\n",
        "x = text_vectorizer(token_inputs)\n",
        "x = embedding(x)\n",
        "x = layers.Conv1D(64, kernel_size=5, padding=\"same\", activation=\"relu\")(x)\n",
        "x = layers.GlobalAveragePooling1D()(x)\n",
        "token_model = tf.keras.Model(token_inputs,x)\n",
        "\n",
        "\n",
        "#2. Char inputs model\n",
        "char_inputs = layers.Input(shape=(1,),dtype='string', name='char_inputs')\n",
        "x = char_vectorizer(char_inputs)\n",
        "x = char_embed(x)\n",
        "x = layers.Bidirectional(layers.LSTM(32))(x)\n",
        "char_model = tf.keras.Model(char_inputs, x)\n",
        "\n",
        "# 3. concatinating token and char inputs [hybrid token emedding]\n",
        "token_char_concat = layers.Concatenate(name=\"token_char_hybrid\")([token_model.output, char_model.output])\n",
        "\n",
        "# 4.creating output layers\n",
        "combined_dropout = layers.Dropout(0.5)(token_char_concat)\n",
        "combined_dense = layers.Dense(64, activation=\"relu\")(combined_dropout)\n",
        "final_dropout = layers.Dropout(0.5)(combined_dense)\n",
        "output_layer = layers.Dense(5, activation=\"softmax\")(final_dropout)\n",
        "\n",
        "\n",
        "# 5. construct model with char and token inputs\n",
        "hybrid_model= tf.keras.Model(inputs = [token_model.input, char_model.input],\n",
        "                        outputs= output_layer,\n",
        "                        name=\"Hybrid_token_and_char_embeddings_Model\")\n",
        "\n",
        "#compile\n",
        "hybrid_model.compile(loss='categorical_crossentropy', optimizer='adam', metrics = ['categorical_accuracy'])\n"
      ]
    },
    {
      "cell_type": "code",
      "execution_count": 81,
      "metadata": {
        "colab": {
          "base_uri": "https://localhost:8080/",
          "height": 953
        },
        "id": "NkuqOoICj1mE",
        "outputId": "fe4a1573-e368-473e-f885-9308f80e9b2c"
      },
      "outputs": [
        {
          "data": {
            "image/png": "[encoded data removed]",
            "text/plain": [
              "<IPython.core.display.Image object>"
            ]
          },
          "execution_count": 81,
          "metadata": {},
          "output_type": "execute_result"
        }
      ],
      "source": [
        "from keras.utils import plot_model\n",
        "plot_model(hybrid_model)"
      ]
    },
    {
      "cell_type": "code",
      "execution_count": 82,
      "metadata": {
        "id": "elDU0JCOkv33"
      },
      "outputs": [],
      "source": [
        "train_chars = np.array(train_chars)\n",
        "val_chars = np.array(val_chars)"
      ]
    },
    {
      "cell_type": "code",
      "execution_count": 83,
      "metadata": {
        "colab": {
          "base_uri": "https://localhost:8080/"
        },
        "id": "t37oP623iD93",
        "outputId": "0d798819-b220-4324-8635-9d1f37b985a2"
      },
      "outputs": [
        {
          "name": "stdout",
          "output_type": "stream",
          "text": [
            "Epoch 1/10\n",
            "924/924 [==============================] - 170s 167ms/step - loss: 0.1550 - categorical_accuracy: 0.9040 - val_loss: 0.7245 - val_categorical_accuracy: 0.7980\n",
            "Epoch 2/10\n",
            "924/924 [==============================] - 87s 94ms/step - loss: 0.0646 - categorical_accuracy: 0.9620 - val_loss: 0.8326 - val_categorical_accuracy: 0.8025\n",
            "Epoch 3/10\n",
            "924/924 [==============================] - 83s 90ms/step - loss: 0.0499 - categorical_accuracy: 0.9704 - val_loss: 0.9420 - val_categorical_accuracy: 0.7972\n",
            "Epoch 4/10\n",
            "924/924 [==============================] - 83s 90ms/step - loss: 0.0430 - categorical_accuracy: 0.9740 - val_loss: 1.0069 - val_categorical_accuracy: 0.7933\n",
            "Epoch 5/10\n",
            "924/924 [==============================] - ETA: 0s - loss: 0.0377 - categorical_accuracy: 0.9764Restoring model weights from the end of the best epoch: 2.\n",
            "924/924 [==============================] - 85s 92ms/step - loss: 0.0377 - categorical_accuracy: 0.9764 - val_loss: 1.1320 - val_categorical_accuracy: 0.7963\n",
            "Epoch 5: early stopping\n"
          ]
        }
      ],
      "source": [
        "#fitting\n",
        "hybrid_model_history = hybrid_model.fit([X_train,train_chars], y_train_encoded, shuffle=True,\n",
        "                    epochs=10,\n",
        "                    batch_size = 128,\n",
        "                    validation_data = ([X_val,val_chars], y_val_encoded),\n",
        "                    callbacks=[create_model_checkpoint(model_name=hybrid_model.name),\n",
        "                        EarlyStopping(monitor='val_categorical_accuracy', mode='max', patience=3, verbose=1 ,  restore_best_weights=True)],\n",
        "                    class_weight=class_weights)"
      ]
    },
    {
      "cell_type": "code",
      "execution_count": 84,
      "metadata": {
        "colab": {
          "base_uri": "https://localhost:8080/"
        },
        "id": "UuD6hqwJHVmg",
        "outputId": "665ad3c6-6f49-46fe-c607-a98479d79887"
      },
      "outputs": [
        {
          "name": "stdout",
          "output_type": "stream",
          "text": [
            "924/924 [==============================] - 13s 12ms/step\n"
          ]
        },
        {
          "data": {
            "text/plain": [
              "{'accuracy': 79.8036892875275,\n",
              " 'precision': 0.7984702852666946,\n",
              " 'recall': 0.798036892875275,\n",
              " 'f1': 0.7981820462692387}"
            ]
          },
          "execution_count": 84,
          "metadata": {},
          "output_type": "execute_result"
        }
      ],
      "source": [
        "# making predictions with the model\n",
        "hybrid_model = tf.keras.models.load_model('model_expriments/Hybrid_token_and_char_embeddings_Model')\n",
        "hybrid_model_pred_probs = hybrid_model.predict([X_val,val_chars])\n",
        "hybrid_model_preds = tf.argmax(hybrid_model_pred_probs,axis=1)\n",
        "\n",
        "hybrid_model_results = calculate_results(y_true=y_val, y_pred= hybrid_model_preds)\n",
        "hybrid_model_results"
      ]
    },
    {
      "cell_type": "markdown",
      "metadata": {
        "id": "lwpYhqSyAFs1"
      },
      "source": [
        "# Comparing Models results"
      ]
    },
    {
      "cell_type": "code",
      "execution_count": 85,
      "metadata": {
        "colab": {
          "base_uri": "https://localhost:8080/",
          "height": 206
        },
        "id": "7veJ7-HxAJqY",
        "outputId": "7a245b8e-90f4-4eaf-a6ad-f180dc6f9221"
      },
      "outputs": [
        {
          "data": {
            "application/vnd.google.colaboratory.intrinsic+json": {
              "summary": "{\n  \"name\": \"all_model_results\",\n  \"rows\": 5,\n  \"fields\": [\n    {\n      \"column\": \"accuracy\",\n      \"properties\": {\n        \"dtype\": \"number\",\n        \"std\": 3.4844690363575763,\n        \"min\": 72.27957353190048,\n        \"max\": 81.2997123032662,\n        \"num_unique_values\": 5,\n        \"samples\": [\n          81.2997123032662,\n          79.8036892875275,\n          79.03875444237603\n        ],\n        \"semantic_type\": \"\",\n        \"description\": \"\"\n      }\n    },\n    {\n      \"column\": \"precision\",\n      \"properties\": {\n        \"dtype\": \"number\",\n        \"std\": 0.010424868181353556,\n        \"min\": 0.791626849462289,\n        \"max\": 0.8173147855455944,\n        \"num_unique_values\": 5,\n        \"samples\": [\n          0.8173147855455944,\n          0.7984702852666946,\n          0.792097018862215\n        ],\n        \"semantic_type\": \"\",\n        \"description\": \"\"\n      }\n    },\n    {\n      \"column\": \"recall\",\n      \"properties\": {\n        \"dtype\": \"number\",\n        \"std\": 0.03484469036357574,\n        \"min\": 0.7227957353190049,\n        \"max\": 0.812997123032662,\n        \"num_unique_values\": 5,\n        \"samples\": [\n          0.812997123032662,\n          0.798036892875275,\n          0.7903875444237604\n        ],\n        \"semantic_type\": \"\",\n        \"description\": \"\"\n      }\n    },\n    {\n      \"column\": \"f1\",\n      \"properties\": {\n        \"dtype\": \"number\",\n        \"std\": 0.048340676357775114,\n        \"min\": 0.6917543858114114,\n        \"max\": 0.8123848101178595,\n        \"num_unique_values\": 5,\n        \"samples\": [\n          0.8123848101178595,\n          0.7981820462692387,\n          0.7908668336337737\n        ],\n        \"semantic_type\": \"\",\n        \"description\": \"\"\n      }\n    }\n  ]\n}",
              "type": "dataframe",
              "variable_name": "all_model_results"
            },
            "text/html": [
              "\n",
              "  <div id=\"df-20ca3300-be52-4fee-907c-e58301dbab9f\" class=\"colab-df-container\">\n",
              "    <div>\n",
              "<style scoped>\n",
              "    .dataframe tbody tr th:only-of-type {\n",
              "        vertical-align: middle;\n",
              "    }\n",
              "\n",
              "    .dataframe tbody tr th {\n",
              "        vertical-align: top;\n",
              "    }\n",
              "\n",
              "    .dataframe thead th {\n",
              "        text-align: right;\n",
              "    }\n",
              "</style>\n",
              "<table border=\"1\" class=\"dataframe\">\n",
              "  <thead>\n",
              "    <tr style=\"text-align: right;\">\n",
              "      <th></th>\n",
              "      <th>accuracy</th>\n",
              "      <th>precision</th>\n",
              "      <th>recall</th>\n",
              "      <th>f1</th>\n",
              "    </tr>\n",
              "  </thead>\n",
              "  <tbody>\n",
              "    <tr>\n",
              "      <th>baseline</th>\n",
              "      <td>72.279574</td>\n",
              "      <td>0.799596</td>\n",
              "      <td>0.722796</td>\n",
              "      <td>0.691754</td>\n",
              "    </tr>\n",
              "    <tr>\n",
              "      <th>lstm</th>\n",
              "      <td>81.299712</td>\n",
              "      <td>0.817315</td>\n",
              "      <td>0.812997</td>\n",
              "      <td>0.812385</td>\n",
              "    </tr>\n",
              "    <tr>\n",
              "      <th>gru</th>\n",
              "      <td>79.038754</td>\n",
              "      <td>0.792097</td>\n",
              "      <td>0.790388</td>\n",
              "      <td>0.790867</td>\n",
              "    </tr>\n",
              "    <tr>\n",
              "      <th>bidirectional</th>\n",
              "      <td>79.018446</td>\n",
              "      <td>0.791627</td>\n",
              "      <td>0.790184</td>\n",
              "      <td>0.790699</td>\n",
              "    </tr>\n",
              "    <tr>\n",
              "      <th>Hybrid Model</th>\n",
              "      <td>79.803689</td>\n",
              "      <td>0.798470</td>\n",
              "      <td>0.798037</td>\n",
              "      <td>0.798182</td>\n",
              "    </tr>\n",
              "  </tbody>\n",
              "</table>\n",
              "</div>\n",
              "    <div class=\"colab-df-buttons\">\n",
              "\n",
              "  <div class=\"colab-df-container\">\n",
              "    <button class=\"colab-df-convert\" onclick=\"convertToInteractive('df-20ca3300-be52-4fee-907c-e58301dbab9f')\"\n",
              "            title=\"Convert this dataframe to an interactive table.\"\n",
              "            style=\"display:none;\">\n",
              "\n",
              "  <svg xmlns=\"http://www.w3.org/2000/svg\" height=\"24px\" viewBox=\"0 -960 960 960\">\n",
              "    <path d=\"M120-120v-720h720v720H120Zm60-500h600v-160H180v160Zm220 220h160v-160H400v160Zm0 220h160v-160H400v160ZM180-400h160v-160H180v160Zm440 0h160v-160H620v160ZM180-180h160v-160H180v160Zm440 0h160v-160H620v160Z\"/>\n",
              "  </svg>\n",
              "    </button>\n",
              "\n",
              "  <style>\n",
              "    .colab-df-container {\n",
              "      display:flex;\n",
              "      gap: 12px;\n",
              "    }\n",
              "\n",
              "    .colab-df-convert {\n",
              "      background-color: #E8F0FE;\n",
              "      border: none;\n",
              "      border-radius: 50%;\n",
              "      cursor: pointer;\n",
              "      display: none;\n",
              "      fill: #1967D2;\n",
              "      height: 32px;\n",
              "      padding: 0 0 0 0;\n",
              "      width: 32px;\n",
              "    }\n",
              "\n",
              "    .colab-df-convert:hover {\n",
              "      background-color: #E2EBFA;\n",
              "      box-shadow: 0px 1px 2px rgba(60, 64, 67, 0.3), 0px 1px 3px 1px rgba(60, 64, 67, 0.15);\n",
              "      fill: #174EA6;\n",
              "    }\n",
              "\n",
              "    .colab-df-buttons div {\n",
              "      margin-bottom: 4px;\n",
              "    }\n",
              "\n",
              "    [theme=dark] .colab-df-convert {\n",
              "      background-color: #3B4455;\n",
              "      fill: #D2E3FC;\n",
              "    }\n",
              "\n",
              "    [theme=dark] .colab-df-convert:hover {\n",
              "      background-color: #434B5C;\n",
              "      box-shadow: 0px 1px 3px 1px rgba(0, 0, 0, 0.15);\n",
              "      filter: drop-shadow(0px 1px 2px rgba(0, 0, 0, 0.3));\n",
              "      fill: #FFFFFF;\n",
              "    }\n",
              "  </style>\n",
              "\n",
              "    <script>\n",
              "      const buttonEl =\n",
              "        document.querySelector('#df-20ca3300-be52-4fee-907c-e58301dbab9f button.colab-df-convert');\n",
              "      buttonEl.style.display =\n",
              "        google.colab.kernel.accessAllowed ? 'block' : 'none';\n",
              "\n",
              "      async function convertToInteractive(key) {\n",
              "        const element = document.querySelector('#df-20ca3300-be52-4fee-907c-e58301dbab9f');\n",
              "        const dataTable =\n",
              "          await google.colab.kernel.invokeFunction('convertToInteractive',\n",
              "                                                    [key], {});\n",
              "        if (!dataTable) return;\n",
              "\n",
              "        const docLinkHtml = 'Like what you see? Visit the ' +\n",
              "          '<a target=\"_blank\" href=https://colab.research.google.com/notebooks/data_table.ipynb>data table notebook</a>'\n",
              "          + ' to learn more about interactive tables.';\n",
              "        element.innerHTML = '';\n",
              "        dataTable['output_type'] = 'display_data';\n",
              "        await google.colab.output.renderOutput(dataTable, element);\n",
              "        const docLink = document.createElement('div');\n",
              "        docLink.innerHTML = docLinkHtml;\n",
              "        element.appendChild(docLink);\n",
              "      }\n",
              "    </script>\n",
              "  </div>\n",
              "\n",
              "\n",
              "<div id=\"df-71cecbb5-4d5c-47f2-8f6f-d26a2127f7bc\">\n",
              "  <button class=\"colab-df-quickchart\" onclick=\"quickchart('df-71cecbb5-4d5c-47f2-8f6f-d26a2127f7bc')\"\n",
              "            title=\"Suggest charts\"\n",
              "            style=\"display:none;\">\n",
              "\n",
              "<svg xmlns=\"http://www.w3.org/2000/svg\" height=\"24px\"viewBox=\"0 0 24 24\"\n",
              "     width=\"24px\">\n",
              "    <g>\n",
              "        <path d=\"M19 3H5c-1.1 0-2 .9-2 2v14c0 1.1.9 2 2 2h14c1.1 0 2-.9 2-2V5c0-1.1-.9-2-2-2zM9 17H7v-7h2v7zm4 0h-2V7h2v10zm4 0h-2v-4h2v4z\"/>\n",
              "    </g>\n",
              "</svg>\n",
              "  </button>\n",
              "\n",
              "<style>\n",
              "  .colab-df-quickchart {\n",
              "      --bg-color: #E8F0FE;\n",
              "      --fill-color: #1967D2;\n",
              "      --hover-bg-color: #E2EBFA;\n",
              "      --hover-fill-color: #174EA6;\n",
              "      --disabled-fill-color: #AAA;\n",
              "      --disabled-bg-color: #DDD;\n",
              "  }\n",
              "\n",
              "  [theme=dark] .colab-df-quickchart {\n",
              "      --bg-color: #3B4455;\n",
              "      --fill-color: #D2E3FC;\n",
              "      --hover-bg-color: #434B5C;\n",
              "      --hover-fill-color: #FFFFFF;\n",
              "      --disabled-bg-color: #3B4455;\n",
              "      --disabled-fill-color: #666;\n",
              "  }\n",
              "\n",
              "  .colab-df-quickchart {\n",
              "    background-color: var(--bg-color);\n",
              "    border: none;\n",
              "    border-radius: 50%;\n",
              "    cursor: pointer;\n",
              "    display: none;\n",
              "    fill: var(--fill-color);\n",
              "    height: 32px;\n",
              "    padding: 0;\n",
              "    width: 32px;\n",
              "  }\n",
              "\n",
              "  .colab-df-quickchart:hover {\n",
              "    background-color: var(--hover-bg-color);\n",
              "    box-shadow: 0 1px 2px rgba(60, 64, 67, 0.3), 0 1px 3px 1px rgba(60, 64, 67, 0.15);\n",
              "    fill: var(--button-hover-fill-color);\n",
              "  }\n",
              "\n",
              "  .colab-df-quickchart-complete:disabled,\n",
              "  .colab-df-quickchart-complete:disabled:hover {\n",
              "    background-color: var(--disabled-bg-color);\n",
              "    fill: var(--disabled-fill-color);\n",
              "    box-shadow: none;\n",
              "  }\n",
              "\n",
              "  .colab-df-spinner {\n",
              "    border: 2px solid var(--fill-color);\n",
              "    border-color: transparent;\n",
              "    border-bottom-color: var(--fill-color);\n",
              "    animation:\n",
              "      spin 1s steps(1) infinite;\n",
              "  }\n",
              "\n",
              "  @keyframes spin {\n",
              "    0% {\n",
              "      border-color: transparent;\n",
              "      border-bottom-color: var(--fill-color);\n",
              "      border-left-color: var(--fill-color);\n",
              "    }\n",
              "    20% {\n",
              "      border-color: transparent;\n",
              "      border-left-color: var(--fill-color);\n",
              "      border-top-color: var(--fill-color);\n",
              "    }\n",
              "    30% {\n",
              "      border-color: transparent;\n",
              "      border-left-color: var(--fill-color);\n",
              "      border-top-color: var(--fill-color);\n",
              "      border-right-color: var(--fill-color);\n",
              "    }\n",
              "    40% {\n",
              "      border-color: transparent;\n",
              "      border-right-color: var(--fill-color);\n",
              "      border-top-color: var(--fill-color);\n",
              "    }\n",
              "    60% {\n",
              "      border-color: transparent;\n",
              "      border-right-color: var(--fill-color);\n",
              "    }\n",
              "    80% {\n",
              "      border-color: transparent;\n",
              "      border-right-color: var(--fill-color);\n",
              "      border-bottom-color: var(--fill-color);\n",
              "    }\n",
              "    90% {\n",
              "      border-color: transparent;\n",
              "      border-bottom-color: var(--fill-color);\n",
              "    }\n",
              "  }\n",
              "</style>\n",
              "\n",
              "  <script>\n",
              "    async function quickchart(key) {\n",
              "      const quickchartButtonEl =\n",
              "        document.querySelector('#' + key + ' button');\n",
              "      quickchartButtonEl.disabled = true;  // To prevent multiple clicks.\n",
              "      quickchartButtonEl.classList.add('colab-df-spinner');\n",
              "      try {\n",
              "        const charts = await google.colab.kernel.invokeFunction(\n",
              "            'suggestCharts', [key], {});\n",
              "      } catch (error) {\n",
              "        console.error('Error during call to suggestCharts:', error);\n",
              "      }\n",
              "      quickchartButtonEl.classList.remove('colab-df-spinner');\n",
              "      quickchartButtonEl.classList.add('colab-df-quickchart-complete');\n",
              "    }\n",
              "    (() => {\n",
              "      let quickchartButtonEl =\n",
              "        document.querySelector('#df-71cecbb5-4d5c-47f2-8f6f-d26a2127f7bc button');\n",
              "      quickchartButtonEl.style.display =\n",
              "        google.colab.kernel.accessAllowed ? 'block' : 'none';\n",
              "    })();\n",
              "  </script>\n",
              "</div>\n",
              "\n",
              "  <div id=\"id_3106ec3b-8d66-4182-ad28-a3f965ee4880\">\n",
              "    <style>\n",
              "      .colab-df-generate {\n",
              "        background-color: #E8F0FE;\n",
              "        border: none;\n",
              "        border-radius: 50%;\n",
              "        cursor: pointer;\n",
              "        display: none;\n",
              "        fill: #1967D2;\n",
              "        height: 32px;\n",
              "        padding: 0 0 0 0;\n",
              "        width: 32px;\n",
              "      }\n",
              "\n",
              "      .colab-df-generate:hover {\n",
              "        background-color: #E2EBFA;\n",
              "        box-shadow: 0px 1px 2px rgba(60, 64, 67, 0.3), 0px 1px 3px 1px rgba(60, 64, 67, 0.15);\n",
              "        fill: #174EA6;\n",
              "      }\n",
              "\n",
              "      [theme=dark] .colab-df-generate {\n",
              "        background-color: #3B4455;\n",
              "        fill: #D2E3FC;\n",
              "      }\n",
              "\n",
              "      [theme=dark] .colab-df-generate:hover {\n",
              "        background-color: #434B5C;\n",
              "        box-shadow: 0px 1px 3px 1px rgba(0, 0, 0, 0.15);\n",
              "        filter: drop-shadow(0px 1px 2px rgba(0, 0, 0, 0.3));\n",
              "        fill: #FFFFFF;\n",
              "      }\n",
              "    </style>\n",
              "    <button class=\"colab-df-generate\" onclick=\"generateWithVariable('all_model_results')\"\n",
              "            title=\"Generate code using this dataframe.\"\n",
              "            style=\"display:none;\">\n",
              "\n",
              "  <svg xmlns=\"http://www.w3.org/2000/svg\" height=\"24px\"viewBox=\"0 0 24 24\"\n",
              "       width=\"24px\">\n",
              "    <path d=\"M7,19H8.4L18.45,9,17,7.55,7,17.6ZM5,21V16.75L18.45,3.32a2,2,0,0,1,2.83,0l1.4,1.43a1.91,1.91,0,0,1,.58,1.4,1.91,1.91,0,0,1-.58,1.4L9.25,21ZM18.45,9,17,7.55Zm-12,3A5.31,5.31,0,0,0,4.9,8.1,5.31,5.31,0,0,0,1,6.5,5.31,5.31,0,0,0,4.9,4.9,5.31,5.31,0,0,0,6.5,1,5.31,5.31,0,0,0,8.1,4.9,5.31,5.31,0,0,0,12,6.5,5.46,5.46,0,0,0,6.5,12Z\"/>\n",
              "  </svg>\n",
              "    </button>\n",
              "    <script>\n",
              "      (() => {\n",
              "      const buttonEl =\n",
              "        document.querySelector('#id_3106ec3b-8d66-4182-ad28-a3f965ee4880 button.colab-df-generate');\n",
              "      buttonEl.style.display =\n",
              "        google.colab.kernel.accessAllowed ? 'block' : 'none';\n",
              "\n",
              "      buttonEl.onclick = () => {\n",
              "        google.colab.notebook.generateWithVariable('all_model_results');\n",
              "      }\n",
              "      })();\n",
              "    </script>\n",
              "  </div>\n",
              "\n",
              "    </div>\n",
              "  </div>\n"
            ],
            "text/plain": [
              "                accuracy  precision    recall        f1\n",
              "baseline       72.279574   0.799596  0.722796  0.691754\n",
              "lstm           81.299712   0.817315  0.812997  0.812385\n",
              "gru            79.038754   0.792097  0.790388  0.790867\n",
              "bidirectional  79.018446   0.791627  0.790184  0.790699\n",
              "Hybrid Model   79.803689   0.798470  0.798037  0.798182"
            ]
          },
          "execution_count": 85,
          "metadata": {},
          "output_type": "execute_result"
        }
      ],
      "source": [
        "# Combine model results into a DataFrame\n",
        "all_model_results = pd.DataFrame({\"baseline\": baseline_results,\n",
        "                                  \"lstm\": model_2_results,\n",
        "                                  \"gru\": model_3_results,\n",
        "                                  \"bidirectional\": model_4_results,\n",
        "                                  \"Hybrid Model\": hybrid_model_results,\n",
        "                                  })\n",
        "all_model_results = all_model_results.transpose()\n",
        "all_model_results"
      ]
    },
    {
      "cell_type": "code",
      "execution_count": 86,
      "metadata": {
        "id": "k2iMzD9dAU8F"
      },
      "outputs": [],
      "source": [
        "# Reduce the accuracy to same scale as other metrics\n",
        "all_model_results[\"accuracy\"] = all_model_results[\"accuracy\"]/100"
      ]
    },
    {
      "cell_type": "code",
      "execution_count": 87,
      "metadata": {
        "colab": {
          "base_uri": "https://localhost:8080/",
          "height": 677
        },
        "id": "Drtx5TvXAVvG",
        "outputId": "df16a10c-d0e5-4b43-878e-da023b748246"
      },
      "outputs": [
        {
          "data": {
            "image/png": "[encoded data removed]",
            "text/plain": [
              "<Figure size 1000x700 with 1 Axes>"
            ]
          },
          "metadata": {},
          "output_type": "display_data"
        }
      ],
      "source": [
        "# Plot and compare all of the model results\n",
        "all_model_results.plot(kind=\"bar\", figsize=(10, 7)).legend(bbox_to_anchor=(1.0, 1.0));"
      ]
    },
    {
      "cell_type": "code",
      "execution_count": 88,
      "metadata": {
        "colab": {
          "base_uri": "https://localhost:8080/",
          "height": 677
        },
        "id": "VyivAUwtBppz",
        "outputId": "e898b0f5-3054-4b5d-9712-a0c84f3b5922"
      },
      "outputs": [
        {
          "data": {
            "image/png": "[encoded data removed]",
            "text/plain": [
              "<Figure size 1000x700 with 1 Axes>"
            ]
          },
          "metadata": {},
          "output_type": "display_data"
        }
      ],
      "source": [
        "# Sort model results by f1-score\n",
        "all_model_results.sort_values(\"f1\", ascending=False)[\"f1\"].plot(kind=\"bar\", figsize=(10, 7));"
      ]
    },
    {
      "cell_type": "markdown",
      "metadata": {
        "id": "_DQ0iy9oJntj"
      },
      "source": [
        "# Saving the model"
      ]
    },
    {
      "cell_type": "code",
      "execution_count": 89,
      "metadata": {
        "id": "WWSLQ3shJunE"
      },
      "outputs": [],
      "source": [
        "drive_path = '/content/drive/MyDrive/Arabic dialect'\n",
        "model_2.save(drive_path +'/lstm_model')"
      ]
    },
    {
      "cell_type": "markdown",
      "metadata": {
        "id": "rYon3CjBJpwp"
      },
      "source": [
        "# Testing out the loaded model"
      ]
    },
    {
      "cell_type": "code",
      "execution_count": 90,
      "metadata": {
        "id": "XMJ6VuxmMbd1"
      },
      "outputs": [],
      "source": [
        "loaded_model = load_model('/content/drive/MyDrive/Arabic dialect/lstm_model')\n"
      ]
    },
    {
      "cell_type": "code",
      "execution_count": 91,
      "metadata": {
        "colab": {
          "base_uri": "https://localhost:8080/"
        },
        "id": "Zz36jjJVM1_W",
        "outputId": "9035db24-6460-419d-d0e7-0ece9faedc5d"
      },
      "outputs": [
        {
          "name": "stdout",
          "output_type": "stream",
          "text": [
            "1/1 [==============================] - 1s 747ms/step\n",
            "Tweet: 'فينك يا بنتي من الصبح'\n",
            "Predicted Country: EG, Actual Country: EG\n",
            "\n",
            "Tweet: 'تقبريني اشتقتلك'\n",
            "Predicted Country: LB, Actual Country: LB\n",
            "\n",
            "Tweet: 'خيرك تشبحلي'\n",
            "Predicted Country: LY, Actual Country: LY\n",
            "\n"
          ]
        }
      ],
      "source": [
        "# tweets from the wild\n",
        "tweets = ['فينك يا بنتي من الصبح','تقبريني اشتقتلك','خيرك تشبحلي']\n",
        "ground_truth = [0,1,2]\n",
        "\n",
        "for tweet in tweets:\n",
        "  tweet = preprocess(tweet)\n",
        "\n",
        "predictions = loaded_model.predict(tweets)\n",
        "predicted_classes = np.argmax(predictions, axis=1)\n",
        "\n",
        "# mapping to labels\n",
        "predicted_labels = [id2label[id] for id in predicted_classes]\n",
        "ground_truth_labels = [id2label[id] for id in ground_truth]\n",
        "\n",
        "for tweet, prediction, truth in zip(tweets, predicted_labels, ground_truth_labels):\n",
        "    print(f\"Tweet: '{tweet}'\\nPredicted Country: {prediction}, Actual Country: {truth}\\n\")\n"
      ]
    }
  ],
  "metadata": {
    "accelerator": "GPU",
    "colab": {
      "collapsed_sections": [
        "ml-akxhSZFNG",
        "a_4XOqAlfXXh",
        "YIkOu3Fuo9dA",
        "a7TPB2-hyO1B"
      ],
      "gpuType": "T4",
      "provenance": []
    },
    "kernelspec": {
      "display_name": "Python 3",
      "name": "python3"
    },
    "language_info": {
      "name": "python"
    }
  },
  "nbformat": 4,
  "nbformat_minor": 0
}
